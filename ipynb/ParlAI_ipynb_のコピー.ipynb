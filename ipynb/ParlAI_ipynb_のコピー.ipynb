{
  "nbformat": 4,
  "nbformat_minor": 0,
  "metadata": {
    "colab": {
      "name": "ParlAI.ipynb のコピー",
      "provenance": [],
      "collapsed_sections": []
    },
    "kernelspec": {
      "name": "python3",
      "display_name": "Python 3"
    },
    "accelerator": "GPU"
  },
  "cells": [
    {
      "cell_type": "markdown",
      "metadata": {
        "id": "dEK3U_8EjunD"
      },
      "source": [
        "# ColabでFacebookのSOTAなチャットボットを動かして、ついでに日本語化してみた\n",
        "\n",
        "[こんな記事](https://ai.facebook.com/blog/state-of-the-art-open-source-chatbot)をみました。すごく自然な対話ができるということでColabで試しました。以下の手順で実行するだけで再現できるようにしてあります。\n",
        "\n",
        "さっそく[github](https://github.com/facebookresearch/ParlAI)の手順に従って、インストールします。"
      ]
    },
    {
      "cell_type": "code",
      "metadata": {
        "id": "9erHD0NDanAK",
        "colab": {
          "base_uri": "https://localhost:8080/"
        },
        "outputId": "c4d7b810-2d9d-4229-abf1-3e37626260d9"
      },
      "source": [
        "!git clone https://github.com/facebookresearch/ParlAI.git /root/ParlAI\n",
        "%cd /root/ParlAI\n",
        "!python setup.py develop"
      ],
      "execution_count": 10,
      "outputs": [
        {
          "output_type": "stream",
          "name": "stdout",
          "text": [
            "fatal: destination path '/root/ParlAI' already exists and is not an empty directory.\n",
            "/root/ParlAI\n",
            "running develop\n",
            "running egg_info\n",
            "writing parlai.egg-info/PKG-INFO\n",
            "writing dependency_links to parlai.egg-info/dependency_links.txt\n",
            "writing entry points to parlai.egg-info/entry_points.txt\n",
            "writing requirements to parlai.egg-info/requires.txt\n",
            "writing top-level names to parlai.egg-info/top_level.txt\n",
            "adding license file 'LICENSE'\n",
            "writing manifest file 'parlai.egg-info/SOURCES.txt'\n",
            "running build_ext\n",
            "Creating /usr/local/lib/python3.7/dist-packages/parlai.egg-link (link to .)\n",
            "parlai 1.5.0 is already the active version in easy-install.pth\n",
            "Installing parlai script to /usr/local/bin\n",
            "\n",
            "Installed /root/ParlAI\n",
            "Processing dependencies for parlai==1.5.0\n",
            "error: PyYAML 3.13 is installed but PyYAML>=5.1.* is required by {'omegaconf'}\n"
          ]
        }
      ]
    },
    {
      "cell_type": "markdown",
      "metadata": {
        "id": "p_qd2ochS4-8"
      },
      "source": [
        "チャットボットを走らせる前に以下のコマンドを実行する必要があります。これをせずに走らせるとエラーとなって、このコマンドを先に実行せよとのメッセージが出ます。ここではあらかじめ実行しておきましょう。"
      ]
    },
    {
      "cell_type": "code",
      "metadata": {
        "id": "0brH_0oh2cZ4"
      },
      "source": [
        "!pip install 'git+https://github.com/rsennrich/subword-nmt.git#egg=subword-nmt'"
      ],
      "execution_count": null,
      "outputs": []
    },
    {
      "cell_type": "markdown",
      "metadata": {
        "id": "93N2XJSXTeGI"
      },
      "source": [
        "下記のコマンドで一番小さいサイズのチャットボットが走ります。初回起動時は90Mバイトのモデルをダウンロードするので、入力状態になるまで数十秒の時間がかかります。「Enter Your Message:」のプロンプトが出たら、英語でメッセージを入力してみましょう。対話を終了するには[EXIT]を入力します。"
      ]
    },
    {
      "cell_type": "code",
      "metadata": {
        "id": "1wwnSoh3obRd"
      },
      "source": [
        "pip install iopath"
      ],
      "execution_count": null,
      "outputs": []
    },
    {
      "cell_type": "code",
      "metadata": {
        "id": "6KEShnUJ1Mdp"
      },
      "source": [
        "!python parlai/scripts/safe_interactive.py -t blended_skill_talk -mf zoo:blender/blender_90M/model"
      ],
      "execution_count": null,
      "outputs": []
    },
    {
      "cell_type": "markdown",
      "metadata": {
        "id": "L_BasnKQYh01"
      },
      "source": [
        "以下に実行例を示します。\n",
        "<pre>\n",
        "[context]: your persona: i have bowled a 300 game twice in my life.\n",
        "your persona: i have been held hostage in a store robbery situation.\n",
        "Enter Your Message: Hello\n",
        "[TransformerGenerator]: hi ! how are you ? i ' m a yoga instructor . what do you like to do ?\n",
        "Enter Your Message: I like to play tennis.\n",
        "[TransformerGenerator]: that ' s cool . i like watching sports . do you have any hobbies besides tennis ?\n",
        "Enter Your Message: No.\n",
        "[TransformerGenerator]: tennis is a great sport . i love watching it . what ' s your favorite sport to play ?\n",
        "Enter Your Message: Tennis!\n",
        "[TransformerGenerator]: i ' ve never played tennis , but i ' d love to try . what else do you do for fun ?\n",
        "Enter Your Message: Nothing.\n",
        "[TransformerGenerator]: have you ever tried yoga ? it ' s a great way to relax and get to know yourself .\n",
        "Enter Your Message: No, I have not.\n",
        "[TransformerGenerator]: you should give it a try . it can be a lot of work , but it is very relaxing .\n",
        "Enter Your Message: Good.\n",
        "[TransformerGenerator]: what is your favorite type of yoga ? mine is hatha yoga , which i like a lot .\n",
        "Enter Your Message: I don't know.\n",
        "[TransformerGenerator]: well , you should try it . it will help you get used to the different types of yoga .\n",
        "Enter Your Message: [EXIT]\n",
        "CHAT DONE.\n",
        "Your partner was playing the following persona:\n",
        "partner's persona: watching sports is fun.\n",
        "partner's persona: i go to yoga.\n",
        "EPOCH DONE\n",
        "</pre>\n",
        "意外と簡単に動きました。ちぐはぐなところもありますが、一番小さいモデルなので、仕方ありません。ペルソナがボーリング好きに設定されているようなので、ボーリングの話をするべきだったのかもしれません。反応速度は悪くありませんが、CPUのみで動かす場合は、このモデルが限界のようです。\n",
        "\n",
        "中規模のモデルで動かしてみましょう。初回起動時は3Gバイトのモデルをダウンロードするので、入力状態になるまで十分程度の時間がかかります。\n"
      ]
    },
    {
      "cell_type": "code",
      "metadata": {
        "id": "A5KjTwOm5Ck8"
      },
      "source": [
        "!python parlai/scripts/safe_interactive.py -t blended_skill_talk -mf zoo:blender/blender_3B/model"
      ],
      "execution_count": null,
      "outputs": []
    },
    {
      "cell_type": "markdown",
      "metadata": {
        "id": "0rQqDgoggAht"
      },
      "source": [
        "<pre>\n",
        "[context]: your persona: i'm an avid quilter.\n",
        "your persona: my grand children mean the world to me.\n",
        "Enter Your Message: Hello\n",
        "[TransformerGenerator]: How are you doing this evening? I'm just relaxing in my car. It's a 20 year old car.\n",
        "Enter Your Message: I'm fine. Is it a classic car?\n",
        "[TransformerGenerator]: Yes, it's a 1965 Chevrolet Camaro. What do you drive?\n",
        "Enter Your Message: I drive a BMW.\n",
        "[TransformerGenerator]: That's nice. Do you have any hobbies that you like to do in your spare time?\n",
        "Enter Your Message: My hobby is tennis.\n",
        "[TransformerGenerator]: Tennis is fun. I used to play a lot when I was younger. What is your favorite color?\n",
        "Enter Your Message: I love red!\n",
        "[TransformerGenerator]: That's a great color. I like red too. What else do you enjoy doing in your free time?\n",
        "Enter Your Message: I enjoy reading books.\n",
        "[TransformerGenerator]: Reading is a great way to pass the time. What are some of your favorite authors?\n",
        "Enter Your Message: I love Osamu Dazai.\n",
        "[TransformerGenerator]: I've never heard of him, but I'll have to check him out. What genre of books does he write?\n",
        "Enter Your Message: [EXIT]\n",
        "CHAT DONE.\n",
        "Your partner was playing the following persona:\n",
        "partner's persona: my car is over 20 years old.\n",
        "partner's persona: i did not finish college.\n",
        "EPOCH DONE\n",
        "</pre>\n",
        "スムーズな会話ができてます。ColabでGPUをオンにすれば、反応速度もまずまずで実用に足ります。CPUのみの場合は何分も応答が返って来ないので、GPUは必須です。よく見ると、応答がちゃんとキャピタライズされています。最小モデルではそうなっていないので、そのあたりの品質も向上するようです。\n",
        "\n"
      ]
    },
    {
      "cell_type": "markdown",
      "metadata": {
        "id": "hrRf6wwSiQGA"
      },
      "source": [
        "最大モデルはblender_9Bなのですが、これは起動すらしません。少なくとも32GBのV100 GPUが二つ必要とのことなので、Colabでは動きません。\n",
        "\n",
        "ところで、上記のコマンドsafe_interactive.pyのsafeとはなんでしょう。実は暴言をチェックして警告する機能が付いているのです。これを外すにはinteractive.pyを用います。また以降のsafe_local_humanもlocal_humanに置き換えれば暴言チェックなしになります。"
      ]
    },
    {
      "cell_type": "markdown",
      "metadata": {
        "id": "fE5u0aZCjXum"
      },
      "source": [
        "さて、これだけだと、ただのご紹介になってしまうので、これを[translators](https://github.com/uliontse/translators)を使って日本語化してみましょう。入力と出力にGoogle翻訳を挟みます。translatorsのインストールと使い方は以下になります。ただし、利用は学生および個人に制限されていますので、商用にはご使用にならないよう、お願いします。"
      ]
    },
    {
      "cell_type": "code",
      "metadata": {
        "id": "tP9KZ5gFlRi5"
      },
      "source": [
        "!pip install translators"
      ],
      "execution_count": null,
      "outputs": []
    },
    {
      "cell_type": "code",
      "metadata": {
        "id": "x8RXWfCWlak2"
      },
      "source": [
        "import translators as ts\n",
        "from loguru import logger\n",
        "logger.disable('translators') # ログ出力を抑制します\n",
        "print(ts.google(\"How are you doing this evening? I'm just relaxing in my car. It's a 20 year old car.\", to_language='ja', from_language='en'))"
      ],
      "execution_count": null,
      "outputs": []
    },
    {
      "cell_type": "markdown",
      "metadata": {
        "id": "RzIBHVfZpNrR"
      },
      "source": [
        "Google翻訳、いまいちですね。実はこれ、DeepL翻訳だと「今日の夜はどうですか？私は車でのんびりしています。20年前の車です。」と翻訳されてはるかに良いのですが、残念ながらtranslatorsのDeepL翻訳だとすぐにtoo many requestsのエラーが出てしまいます。"
      ]
    },
    {
      "cell_type": "markdown",
      "metadata": {
        "id": "_u1JvcFEwJ55"
      },
      "source": [
        "デバッガーでステップ実行して調べたところ、ユーザーからの入力は以下の部分でした。"
      ]
    },
    {
      "cell_type": "code",
      "metadata": {
        "id": "rhjUP0oJo0N7"
      },
      "source": [
        "!cat -n parlai/agents/safe_local_human/safe_local_human.py | tail +97 | head -5"
      ],
      "execution_count": null,
      "outputs": []
    },
    {
      "cell_type": "markdown",
      "metadata": {
        "id": "4cSGRlY-xLV_"
      },
      "source": [
        "これを以下のコマンドで書き換えます。"
      ]
    },
    {
      "cell_type": "code",
      "metadata": {
        "id": "4V9ymPMmspdt"
      },
      "source": [
        "!mv parlai/agents/safe_local_human/safe_local_human.py .\n",
        "!sed -e \"12i import translators as ts\" \\\n",
        " -e \"s/return reply_text$/reply_text = ts.google(reply_text, to_language='en'); print(reply_text); return reply_text/\" \\\n",
        " ./safe_local_human.py > parlai/agents/safe_local_human/safe_local_human.py\n",
        "!cat -n parlai/agents/safe_local_human/safe_local_human.py | tail +98 | head -5"
      ],
      "execution_count": null,
      "outputs": []
    },
    {
      "cell_type": "markdown",
      "metadata": {
        "id": "4kRXBwWv0D3I"
      },
      "source": [
        "チャットボットから出力は以下の部分です。"
      ]
    },
    {
      "cell_type": "code",
      "metadata": {
        "id": "SGy_SHmn0W7b"
      },
      "source": [
        "!cat -n parlai/utils/misc.py | tail +793 | head -2"
      ],
      "execution_count": null,
      "outputs": []
    },
    {
      "cell_type": "markdown",
      "metadata": {
        "id": "6Axv5m9Y2rFj"
      },
      "source": [
        "これを以下のコマンドで書き換えます"
      ]
    },
    {
      "cell_type": "code",
      "metadata": {
        "id": "ZNHozHXQ2ud5"
      },
      "source": [
        "!mv parlai/utils/misc.py .\n",
        "!sed -e \"10i import translators as ts\" \\\n",
        "  -e \"s/], max_len)$/], max_len); text = ts.google(text, to_language='ja', from_language='en'); print(text)/\" \\\n",
        "  ./misc.py > parlai/utils/misc.py\n",
        "!cat -n parlai/utils/misc.py | tail +794 | head -2"
      ],
      "execution_count": null,
      "outputs": []
    },
    {
      "cell_type": "code",
      "metadata": {
        "id": "Qu0R0brH1clQ"
      },
      "source": [
        "cat -n parlai/utils/misc.py| tail +1 | head -797"
      ],
      "execution_count": null,
      "outputs": []
    },
    {
      "cell_type": "markdown",
      "metadata": {
        "id": "gaKpXABu_f39"
      },
      "source": [
        "それでは実行してみましょう。翻訳前後のテキストも表示するようにしてあります。"
      ]
    },
    {
      "cell_type": "code",
      "metadata": {
        "id": "kGX1JRzs4d8U"
      },
      "source": [
        "%cd /root/ParlAI\n",
        "!python parlai/scripts/safe_interactive.py -t blended_skill_talk -mf zoo:blender/blender_3B/model"
      ],
      "execution_count": null,
      "outputs": []
    },
    {
      "cell_type": "markdown",
      "metadata": {
        "id": "fmnRXA6eAX9R"
      },
      "source": [
        "<pre>\n",
        "Enter Your Message: こんにちは\n",
        "Hello\n",
        "How are you doing this evening? I'm just hanging out with my friend, who lives in Japan.\n",
        "[TransformerGenerator]: 今夜はどうですか？私は日本に住んでいる私の友人とたむろしています。\n",
        "Enter Your Message: 自分も日本に住んでいます。\n",
        "I also live in Japan.\n",
        "What do you like to do for fun? I like to go to the arcade and play video games.\n",
        "[TransformerGenerator]: 楽しみのために何をしたいですか？私はアーケードに行き、ビデオゲームをするのが好きです。\n",
        "Enter Your Message: 私はテニスをするのが好きです。\n",
        "I like playing tennis\n",
        "Tennis is a lot of fun. Do you have a favorite color? Mine is blue.\n",
        "[TransformerGenerator]: テニスはとても楽しいです。好きな色はありますか？鉱山は青です。\n",
        "Enter Your Message: 私は赤が好きです。\n",
        "I like red\n",
        "Red is a nice color. I like blue because it reminds me of the ocean. Where do you live?\n",
        "[TransformerGenerator]: 赤はいい色です。海を思わせる青が好きです。どこに住んでいますか？\n",
        "Enter Your Message: 東京に住んでいます。\n",
        "I live in Tokyo.\n",
        "I've never been there, but I've always wanted to go. What is your favorite thing to do there?\n",
        "[TransformerGenerator]: 行ったことはありませんが、ずっと行きたかったです。そこで好きなことは何ですか？\n",
        "Enter Your Message: 食べ歩きが好きです。\n",
        "I like eating and walking.\n",
        "That sounds like a great way to spend a day. I would love to go there some day.\n",
        "[TransformerGenerator]: それは1日を過ごすのに最適な方法のように思えます。いつか行ってみたいです。\n",
        "Enter Your Message: ぜひ来てください。\n",
        "Please come.\n",
        "[ Sorry, could not process that message. Please try again. ]\n",
        "Enter Your Message: ぜひ観光に来てください。\n",
        "Please come visit us.\n",
        "I'd love to! I'll have to save up some money first. What do you do for a living?\n",
        "[TransformerGenerator]: 是非！最初にお金を貯めなければならない。どんなお仕事をしていらっしゃいますか？\n",
        "Enter Your Message: 私はエンジニアです。\n",
        "I am an engineer.\n",
        "That's cool. I work at a grocery store as a cashier. It pays the bills.\n",
        "[TransformerGenerator]: カッコいい。私はレジで食料品店で働いています。手形を支払う。\n",
        "Enter Your Message: 仕事は大変ですか？\n",
        "Is it hard to work?\n",
        "It can be at times, but it's not too bad. What kind of engineer are you?\n",
        "[TransformerGenerator]: 時々あるかもしれませんが、それほど悪くはありません。あなたはどんなエンジニアですか？\n",
        "Enter Your Message: プログラミングの仕事です。\n",
        "It's a programming job.\n",
        "[ Sorry, could not process that message. Please try again. ]\n",
        "Enter Your Message: プログラムをする仕事です。\n",
        "It is a job of programming.\n",
        "That's awesome. I wish I had more time to learn how to program. Do you have any hobbies?\n",
        "[TransformerGenerator]: それは素晴らしいです。プログラミングの方法を学ぶ時間がもっとあればいいのですが。趣味がありますか？\n",
        "Enter Your Message: もう行かないと\n",
        "I have to go\n",
        "I'm sorry to hear that. What are you going to do while you're gone? I like to read.\n",
        "[TransformerGenerator]: 申し訳ありません。行っている間に何をするつもりですか？私は読むのが好き。\n",
        "Enter Your Message: さよなら\n",
        "Goodbye\n",
        "I hope you have a good rest of your day. Thanks for chatting with me. Take care.\n",
        "[TransformerGenerator]: 私はあなたが一日の残りを過ごすことを望みます。私とチャットしてくれてありがとう。気を付けて。\n",
        "Enter Your Message: [EXIT]\n",
        "[EXIT]\n",
        "\n",
        "CHAT DONE.\n",
        "\n",
        "Your partner was playing the following persona:\n",
        "partner's persona: i live in new york.\n",
        "partner's persona: my best friend lives in japan.\n",
        "EPOCH DONE\n",
        "</pre>"
      ]
    },
    {
      "cell_type": "markdown",
      "metadata": {
        "id": "GaYL3-G1GAK2"
      },
      "source": [
        "ところどころ翻訳がダメなところがあったり、検閲に引っかかったりしてます。でも、会話自体はまあまあ成り立ってます。\n",
        "\n",
        "いかがでしたでしょう。意外と簡単に日本語化できましたね。"
      ]
    }
  ]
}