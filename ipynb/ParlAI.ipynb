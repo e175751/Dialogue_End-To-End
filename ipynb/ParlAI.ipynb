{
  "nbformat": 4,
  "nbformat_minor": 0,
  "metadata": {
    "colab": {
      "name": "ParlAI.ipynb",
      "provenance": [],
      "collapsed_sections": []
    },
    "kernelspec": {
      "name": "python3",
      "display_name": "Python 3"
    },
    "accelerator": "GPU"
  },
  "cells": [
    {
      "cell_type": "markdown",
      "metadata": {
        "id": "dEK3U_8EjunD"
      },
      "source": [
        "# ColabでFacebookのSOTAなチャットボットを動かして、ついでに日本語化してみた\n",
        "\n",
        "[こんな記事](https://ai.facebook.com/blog/state-of-the-art-open-source-chatbot)をみました。すごく自然な対話ができるということでColabで試しました。以下の手順で実行するだけで再現できるようにしてあります。\n",
        "\n",
        "さっそく[github](https://github.com/facebookresearch/ParlAI)の手順に従って、インストールします。"
      ]
    },
    {
      "cell_type": "code",
      "metadata": {
        "id": "9erHD0NDanAK",
        "colab": {
          "base_uri": "https://localhost:8080/"
        },
        "outputId": "1cfa36ea-34a1-4150-dec1-d5dbffc38161"
      },
      "source": [
        "!git clone https://github.com/facebookresearch/ParlAI.git /root/ParlAI\n",
        "%cd /root/ParlAI\n",
        "!python setup.py develop"
      ],
      "execution_count": 1,
      "outputs": [
        {
          "output_type": "stream",
          "name": "stdout",
          "text": [
            "Cloning into '/root/ParlAI'...\n",
            "remote: Enumerating objects: 41220, done.\u001b[K\n",
            "remote: Counting objects: 100% (797/797), done.\u001b[K\n",
            "remote: Compressing objects: 100% (460/460), done.\u001b[K\n",
            "remote: Total 41220 (delta 410), reused 639 (delta 320), pack-reused 40423\u001b[K\n",
            "Receiving objects: 100% (41220/41220), 88.78 MiB | 28.68 MiB/s, done.\n",
            "Resolving deltas: 100% (29309/29309), done.\n",
            "/root/ParlAI\n",
            "running develop\n",
            "running egg_info\n",
            "creating parlai.egg-info\n",
            "writing parlai.egg-info/PKG-INFO\n",
            "writing dependency_links to parlai.egg-info/dependency_links.txt\n",
            "writing entry points to parlai.egg-info/entry_points.txt\n",
            "writing requirements to parlai.egg-info/requires.txt\n",
            "writing top-level names to parlai.egg-info/top_level.txt\n",
            "writing manifest file 'parlai.egg-info/SOURCES.txt'\n",
            "adding license file 'LICENSE'\n",
            "writing manifest file 'parlai.egg-info/SOURCES.txt'\n",
            "running build_ext\n",
            "Creating /usr/local/lib/python3.7/dist-packages/parlai.egg-link (link to .)\n",
            "Adding parlai 1.5.0 to easy-install.pth file\n",
            "Installing parlai script to /usr/local/bin\n",
            "\n",
            "Installed /root/ParlAI\n",
            "Processing dependencies for parlai==1.5.0\n",
            "Searching for jsonlines\n",
            "Reading https://pypi.org/simple/jsonlines/\n",
            "Downloading https://files.pythonhosted.org/packages/d4/58/06f430ff7607a2929f80f07bfd820acbc508a4e977542fefcc522cde9dff/jsonlines-2.0.0-py3-none-any.whl#sha256=bfb043d4e25fd894dca67b1f2adf014e493cb65d0f18b3a74a98bfcd97c3d983\n",
            "Best match: jsonlines 2.0.0\n",
            "Processing jsonlines-2.0.0-py3-none-any.whl\n",
            "Installing jsonlines-2.0.0-py3-none-any.whl to /usr/local/lib/python3.7/dist-packages\n",
            "Adding jsonlines 2.0.0 to easy-install.pth file\n",
            "\n",
            "Installed /usr/local/lib/python3.7/dist-packages/jsonlines-2.0.0-py3.7.egg\n",
            "Searching for websocket-server\n",
            "Reading https://pypi.org/simple/websocket-server/\n",
            "Downloading https://files.pythonhosted.org/packages/eb/46/bebc5b9523aabc266a46f70d0493e4b7b294723b4ac5cef18c2516142e00/websocket_server-0.5.1-py3-none-any.whl#sha256=35731e3874be2ad435c4530ecbbe7dcc959f66b7aa31db342898c9de1011e14d\n",
            "Best match: websocket-server 0.5.1\n",
            "Processing websocket_server-0.5.1-py3-none-any.whl\n",
            "Installing websocket_server-0.5.1-py3-none-any.whl to /usr/local/lib/python3.7/dist-packages\n",
            "Adding websocket-server 0.5.1 to easy-install.pth file\n",
            "\n",
            "Installed /usr/local/lib/python3.7/dist-packages/websocket_server-0.5.1-py3.7.egg\n",
            "Searching for websocket-client\n",
            "Reading https://pypi.org/simple/websocket-client/\n",
            "Downloading https://files.pythonhosted.org/packages/55/44/030ea47390896c8d6dc9995c8e9a4c5df3a161cd45416d88119036c73eda/websocket_client-1.2.1-py2.py3-none-any.whl#sha256=0133d2f784858e59959ce82ddac316634229da55b498aac311f1620567a710ec\n",
            "Best match: websocket-client 1.2.1\n",
            "Processing websocket_client-1.2.1-py2.py3-none-any.whl\n",
            "Installing websocket_client-1.2.1-py2.py3-none-any.whl to /usr/local/lib/python3.7/dist-packages\n",
            "Adding websocket-client 1.2.1 to easy-install.pth file\n",
            "Installing wsdump.py script to /usr/local/bin\n",
            "\n",
            "Installed /usr/local/lib/python3.7/dist-packages/websocket_client-1.2.1-py3.7.egg\n",
            "Searching for urllib3>=1.26.5\n",
            "Reading https://pypi.org/simple/urllib3/\n",
            "Downloading https://files.pythonhosted.org/packages/5f/64/43575537846896abac0b15c3e5ac678d787a4021e906703f1766bfb8ea11/urllib3-1.26.6-py2.py3-none-any.whl#sha256=39fb8672126159acb139a7718dd10806104dec1e2f0f6c88aab05d17df10c8d4\n",
            "Best match: urllib3 1.26.6\n",
            "Processing urllib3-1.26.6-py2.py3-none-any.whl\n",
            "Installing urllib3-1.26.6-py2.py3-none-any.whl to /usr/local/lib/python3.7/dist-packages\n",
            "Adding urllib3 1.26.6 to easy-install.pth file\n",
            "\n",
            "Installed /usr/local/lib/python3.7/dist-packages/urllib3-1.26.6-py3.7.egg\n",
            "Searching for Unidecode\n",
            "Reading https://pypi.org/simple/Unidecode/\n",
            "Downloading https://files.pythonhosted.org/packages/2f/45/118b264e2740a29bb3f6e52431e2425c45f0ef44f37e985c147624042f00/Unidecode-1.3.0-py2.py3-none-any.whl#sha256=d01b0a22f7d90dea483da658782884de5162f40359fcaf79630738db93045c84\n",
            "Best match: Unidecode 1.3.0\n",
            "Processing Unidecode-1.3.0-py2.py3-none-any.whl\n",
            "Installing Unidecode-1.3.0-py2.py3-none-any.whl to /usr/local/lib/python3.7/dist-packages\n",
            "Adding Unidecode 1.3.0 to easy-install.pth file\n",
            "Installing unidecode script to /usr/local/bin\n",
            "\n",
            "Installed /usr/local/lib/python3.7/dist-packages/Unidecode-1.3.0-py3.7.egg\n",
            "Searching for tqdm~=4.42.0\n",
            "Reading https://pypi.org/simple/tqdm/\n",
            "Downloading https://files.pythonhosted.org/packages/cd/80/5bb262050dd2f30f8819626b7c92339708fe2ed7bd5554c8193b4487b367/tqdm-4.42.1-py2.py3-none-any.whl#sha256=fe231261cfcbc6f4a99165455f8f6b9ef4e1032a6e29bccf168b4bf42012f09c\n",
            "Best match: tqdm 4.42.1\n",
            "Processing tqdm-4.42.1-py2.py3-none-any.whl\n",
            "Installing tqdm-4.42.1-py2.py3-none-any.whl to /usr/local/lib/python3.7/dist-packages\n",
            "Adding tqdm 4.42.1 to easy-install.pth file\n",
            "Installing tqdm script to /usr/local/bin\n",
            "\n",
            "Installed /usr/local/lib/python3.7/dist-packages/tqdm-4.42.1-py3.7.egg\n",
            "Searching for tokenizers>=0.8.0\n",
            "Reading https://pypi.org/simple/tokenizers/\n",
            "Downloading https://files.pythonhosted.org/packages/d4/e2/df3543e8ffdab68f5acc73f613de9c2b155ac47f162e725dcac87c521c11/tokenizers-0.10.3-cp37-cp37m-manylinux_2_5_x86_64.manylinux1_x86_64.manylinux_2_12_x86_64.manylinux2010_x86_64.whl#sha256=4cc194104c8e427ffc4f54c7866488b42f2b1f6351a6cad0d045ca5ab8108e42\n",
            "Best match: tokenizers 0.10.3\n",
            "Processing tokenizers-0.10.3-cp37-cp37m-manylinux_2_5_x86_64.manylinux1_x86_64.manylinux_2_12_x86_64.manylinux2010_x86_64.whl\n",
            "Installing tokenizers-0.10.3-cp37-cp37m-manylinux_2_5_x86_64.manylinux1_x86_64.manylinux_2_12_x86_64.manylinux2010_x86_64.whl to /usr/local/lib/python3.7/dist-packages\n",
            "Adding tokenizers 0.10.3 to easy-install.pth file\n",
            "\n",
            "Installed /usr/local/lib/python3.7/dist-packages/tokenizers-0.10.3-py3.7-linux-x86_64.egg\n",
            "Searching for tensorboardX\n",
            "Reading https://pypi.org/simple/tensorboardX/\n",
            "Downloading https://files.pythonhosted.org/packages/99/0b/a26bbe92667c549d39c40b80c5ddec638fbae9521f04aeef26560e07e504/tensorboardX-2.4-py2.py3-none-any.whl#sha256=2742b1ac3fdef2b938b1110b503c6986b7100a3250394a5a44ef12784b563b55\n",
            "Best match: tensorboardX 2.4\n",
            "Processing tensorboardX-2.4-py2.py3-none-any.whl\n",
            "Installing tensorboardX-2.4-py2.py3-none-any.whl to /usr/local/lib/python3.7/dist-packages\n",
            "Adding tensorboardX 2.4 to easy-install.pth file\n",
            "\n",
            "Installed /usr/local/lib/python3.7/dist-packages/tensorboardX-2.4-py3.7.egg\n",
            "Searching for subword-nmt\n",
            "Reading https://pypi.org/simple/subword-nmt/\n",
            "Downloading https://files.pythonhosted.org/packages/74/60/6600a7bc09e7ab38bc53a48a20d8cae49b837f93f5842a41fe513a694912/subword_nmt-0.3.7-py2.py3-none-any.whl#sha256=a2d92eed5dea55f2b1c9b21225a57b3ae7009ce8a1fa4d2e3f01ab11435c28c9\n",
            "Best match: subword-nmt 0.3.7\n",
            "Processing subword_nmt-0.3.7-py2.py3-none-any.whl\n",
            "Installing subword_nmt-0.3.7-py2.py3-none-any.whl to /usr/local/lib/python3.7/dist-packages\n",
            "Adding subword-nmt 0.3.7 to easy-install.pth file\n",
            "Installing subword-nmt script to /usr/local/bin\n",
            "\n",
            "Installed /usr/local/lib/python3.7/dist-packages/subword_nmt-0.3.7-py3.7.egg\n",
            "Searching for Sphinx~=2.2.0\n",
            "Reading https://pypi.org/simple/Sphinx/\n",
            "Downloading https://files.pythonhosted.org/packages/be/a4/f42463e18bb36a47325d43004ab6f4afb5c863e6ffdb936104acc15cfc11/Sphinx-2.2.2-py3-none-any.whl#sha256=3b16e48e791a322d584489ab28d8800652123d1fbfdd173e2965a31d40bf22d7\n",
            "Best match: Sphinx 2.2.2\n",
            "Processing Sphinx-2.2.2-py3-none-any.whl\n",
            "Installing Sphinx-2.2.2-py3-none-any.whl to /usr/local/lib/python3.7/dist-packages\n",
            "Adding Sphinx 2.2.2 to easy-install.pth file\n",
            "Installing sphinx-apidoc script to /usr/local/bin\n",
            "Installing sphinx-autogen script to /usr/local/bin\n",
            "Installing sphinx-build script to /usr/local/bin\n",
            "Installing sphinx-quickstart script to /usr/local/bin\n",
            "\n",
            "Installed /usr/local/lib/python3.7/dist-packages/Sphinx-2.2.2-py3.7.egg\n",
            "Searching for sphinx-autodoc-typehints~=1.10.3\n",
            "Reading https://pypi.org/simple/sphinx-autodoc-typehints/\n",
            "Downloading https://files.pythonhosted.org/packages/00/83/87b8890a93b3994b49960716009c1effb6f7a1fef3a1ec553fda2a7c84de/sphinx_autodoc_typehints-1.10.3-py3-none-any.whl#sha256=27c9e6ef4f4451766ab8d08b2d8520933b97beb21c913f3df9ab2e59b56e6c6c\n",
            "Best match: sphinx-autodoc-typehints 1.10.3\n",
            "Processing sphinx_autodoc_typehints-1.10.3-py3-none-any.whl\n",
            "Installing sphinx_autodoc_typehints-1.10.3-py3-none-any.whl to /usr/local/lib/python3.7/dist-packages\n",
            "Adding sphinx-autodoc-typehints 1.10.3 to easy-install.pth file\n",
            "\n",
            "Installed /usr/local/lib/python3.7/dist-packages/sphinx_autodoc_typehints-1.10.3-py3.7.egg\n",
            "Searching for sphinx_rtd_theme\n",
            "Reading https://pypi.org/simple/sphinx_rtd_theme/\n",
            "Downloading https://files.pythonhosted.org/packages/90/3e/ebae83d332335bf69242209439dea8d80e56734db2d918d86361a50e8509/sphinx_rtd_theme-1.0.0rc1-py2.py3-none-any.whl#sha256=deefaf0de460879a712ea9822b3c6d5bd6a85e3ae56e8f535ed88d2bf5f076b8\n",
            "Best match: sphinx-rtd-theme 1.0.0rc1\n",
            "Processing sphinx_rtd_theme-1.0.0rc1-py2.py3-none-any.whl\n",
            "Installing sphinx_rtd_theme-1.0.0rc1-py2.py3-none-any.whl to /usr/local/lib/python3.7/dist-packages\n",
            "Adding sphinx-rtd-theme 1.0.0rc1 to easy-install.pth file\n",
            "\n",
            "Installed /usr/local/lib/python3.7/dist-packages/sphinx_rtd_theme-1.0.0rc1-py3.7.egg\n",
            "Searching for sh\n",
            "Reading https://pypi.org/simple/sh/\n",
            "Downloading https://files.pythonhosted.org/packages/7a/c3/0836b7b975d09428d90f926dc1f86e2d76d721cf79bd6659838761c35f85/sh-1.14.2-py2.py3-none-any.whl#sha256=4921ac9c1a77ec8084bdfaf152fe14138e2b3557cc740002c1a97076321fce8a\n",
            "Best match: sh 1.14.2\n",
            "Processing sh-1.14.2-py2.py3-none-any.whl\n",
            "Installing sh-1.14.2-py2.py3-none-any.whl to /usr/local/lib/python3.7/dist-packages\n",
            "Adding sh 1.14.2 to easy-install.pth file\n",
            "\n",
            "Installed /usr/local/lib/python3.7/dist-packages/sh-1.14.2-py3.7.egg\n",
            "Searching for requests-mock\n",
            "Reading https://pypi.org/simple/requests-mock/\n",
            "Downloading https://files.pythonhosted.org/packages/d7/50/1230e4524fc109727bb7eae4ba927d995270662b1270c259a246b5325ef7/requests_mock-1.9.3-py2.py3-none-any.whl#sha256=0a2d38a117c08bb78939ec163522976ad59a6b7fdd82b709e23bb98004a44970\n",
            "Best match: requests-mock 1.9.3\n",
            "Processing requests_mock-1.9.3-py2.py3-none-any.whl\n",
            "Installing requests_mock-1.9.3-py2.py3-none-any.whl to /usr/local/lib/python3.7/dist-packages\n",
            "Adding requests-mock 1.9.3 to easy-install.pth file\n",
            "\n",
            "Installed /usr/local/lib/python3.7/dist-packages/requests_mock-1.9.3-py3.7.egg\n",
            "Searching for attrs~=20.2.0\n",
            "Reading https://pypi.org/simple/attrs/\n",
            "Downloading https://files.pythonhosted.org/packages/14/df/479736ae1ef59842f512548bacefad1abed705e400212acba43f9b0fa556/attrs-20.2.0-py2.py3-none-any.whl#sha256=fce7fc47dfc976152e82d53ff92fa0407700c21acd20886a13777a0d20e655dc\n",
            "Best match: attrs 20.2.0\n",
            "Processing attrs-20.2.0-py2.py3-none-any.whl\n",
            "Installing attrs-20.2.0-py2.py3-none-any.whl to /usr/local/lib/python3.7/dist-packages\n",
            "Adding attrs 20.2.0 to easy-install.pth file\n",
            "\n",
            "Installed /usr/local/lib/python3.7/dist-packages/attrs-20.2.0-py3.7.egg\n",
            "Searching for myst-parser~=0.12.2\n",
            "Reading https://pypi.org/simple/myst-parser/\n",
            "Downloading https://files.pythonhosted.org/packages/2f/f0/bf66b8c5428dd7352cbc258981dce95fcd3ae63e66aa843f3b0f5986c3ba/myst_parser-0.12.10-py3-none-any.whl#sha256=a5311da4398869e596250d5a93b523735c3beb8bc9d3eba853223c705802043b\n",
            "Best match: myst-parser 0.12.10\n",
            "Processing myst_parser-0.12.10-py3-none-any.whl\n",
            "Installing myst_parser-0.12.10-py3-none-any.whl to /usr/local/lib/python3.7/dist-packages\n",
            "Adding myst-parser 0.12.10 to easy-install.pth file\n",
            "Installing myst-anchors script to /usr/local/bin\n",
            "\n",
            "Installed /usr/local/lib/python3.7/dist-packages/myst_parser-0.12.10-py3.7.egg\n",
            "Searching for py-rouge\n",
            "Reading https://pypi.org/simple/py-rouge/\n",
            "Downloading https://files.pythonhosted.org/packages/9c/1d/0bdbaf559fb7afe32308ebc84a2028600988212d7eb7fb9f69c4e829e4a0/py_rouge-1.1-py3-none-any.whl#sha256=9ae2a859a9edc6d25f3908e48706f7d82d6e78ea18954560c4cb21897dc1d270\n",
            "Best match: py-rouge 1.1\n",
            "Processing py_rouge-1.1-py3-none-any.whl\n",
            "Installing py_rouge-1.1-py3-none-any.whl to /usr/local/lib/python3.7/dist-packages\n",
            "Adding py-rouge 1.1 to easy-install.pth file\n",
            "\n",
            "Installed /usr/local/lib/python3.7/dist-packages/py_rouge-1.1-py3.7.egg\n",
            "Searching for py-gfm\n",
            "Reading https://pypi.org/simple/py-gfm/\n",
            "Downloading https://files.pythonhosted.org/packages/f7/0a/2bcd3490ce848fdaa2491d5d3ee54038aedac87681ccb072d538e2122443/py_gfm-1.0.2-py2.py3-none-any.whl#sha256=c4e873f310a84137acae5884a15e81a18eac17da9c00b20d5d9b82d37fd2d077\n",
            "Best match: py-gfm 1.0.2\n",
            "Processing py_gfm-1.0.2-py2.py3-none-any.whl\n",
            "Installing py_gfm-1.0.2-py2.py3-none-any.whl to /usr/local/lib/python3.7/dist-packages\n",
            "Adding py-gfm 1.0.2 to easy-install.pth file\n",
            "\n",
            "Installed /usr/local/lib/python3.7/dist-packages/py_gfm-1.0.2-py3.7.egg\n",
            "Searching for pytest_regressions\n",
            "Reading https://pypi.org/simple/pytest_regressions/\n",
            "Downloading https://files.pythonhosted.org/packages/b3/26/e9d367488762066943dd2cc9fe1623073e27e2a2f4c247bbf398fc7774f5/pytest_regressions-2.2.0-py3-none-any.whl#sha256=b2657e7fa9a66fe0e2620481248933162d5fe8f6532887cef64bba0c9be31ac3\n",
            "Best match: pytest-regressions 2.2.0\n",
            "Processing pytest_regressions-2.2.0-py3-none-any.whl\n",
            "Installing pytest_regressions-2.2.0-py3-none-any.whl to /usr/local/lib/python3.7/dist-packages\n",
            "Adding pytest-regressions 2.2.0 to easy-install.pth file\n",
            "\n",
            "Installed /usr/local/lib/python3.7/dist-packages/pytest_regressions-2.2.0-py3.7.egg\n",
            "Searching for omegaconf<2.1.0\n",
            "Reading https://pypi.org/simple/omegaconf/\n",
            "Downloading https://files.pythonhosted.org/packages/d0/eb/9d63ce09dd8aa85767c65668d5414958ea29648a0eec80a4a7d311ec2684/omegaconf-2.0.6-py3-none-any.whl#sha256=9e349fd76819b95b47aa628edea1ff83fed5b25108608abdd6c7fdca188e302a\n",
            "Best match: omegaconf 2.0.6\n",
            "Processing omegaconf-2.0.6-py3-none-any.whl\n",
            "Installing omegaconf-2.0.6-py3-none-any.whl to /usr/local/lib/python3.7/dist-packages\n",
            "Adding omegaconf 2.0.6 to easy-install.pth file\n",
            "\n",
            "Installed /usr/local/lib/python3.7/dist-packages/omegaconf-2.0.6-py3.7.egg\n",
            "Searching for hydra-core~=1.0.6\n",
            "Reading https://pypi.org/simple/hydra-core/\n",
            "Downloading https://files.pythonhosted.org/packages/5f/2a/9c698daa12ed6e09e7629e6908528f043fa9de8a441c56cc13608d765fb2/hydra_core-1.0.7-py3-none-any.whl#sha256=e800c6deb8309395508094851fa93bc13408f2285261eb97e626d37193b58a9f\n",
            "Best match: hydra-core 1.0.7\n",
            "Processing hydra_core-1.0.7-py3-none-any.whl\n",
            "Installing hydra_core-1.0.7-py3-none-any.whl to /usr/local/lib/python3.7/dist-packages\n",
            "Adding hydra-core 1.0.7 to easy-install.pth file\n",
            "\n",
            "Installed /usr/local/lib/python3.7/dist-packages/hydra_core-1.0.7-py3.7.egg\n",
            "Searching for GitPython\n",
            "Reading https://pypi.org/simple/GitPython/\n",
            "Downloading https://files.pythonhosted.org/packages/55/60/f884f01eef2a7255875862ec1b12d57d74113ec6e8d9e16c4d254cd6aa3c/GitPython-3.1.20-py3-none-any.whl#sha256=b1e1c269deab1b08ce65403cf14e10d2ef1f6c89e33ea7c5e5bb0222ea593b8a\n",
            "Best match: GitPython 3.1.20\n",
            "Processing GitPython-3.1.20-py3-none-any.whl\n",
            "Installing GitPython-3.1.20-py3-none-any.whl to /usr/local/lib/python3.7/dist-packages\n",
            "Adding GitPython 3.1.20 to easy-install.pth file\n",
            "\n",
            "Installed /usr/local/lib/python3.7/dist-packages/GitPython-3.1.20-py3.7.egg\n",
            "Searching for gitdb2\n",
            "Reading https://pypi.org/simple/gitdb2/\n",
            "Downloading https://files.pythonhosted.org/packages/52/7e/59f96b47f671b3fe0aa0c1b609531a540434b719a10c417581e25b383909/gitdb2-4.0.2-py3-none-any.whl#sha256=a1c974e5fab8c2c90192c1367c81cbc54baec04244bda1816e9c8ab377d1cba3\n",
            "Best match: gitdb2 4.0.2\n",
            "Processing gitdb2-4.0.2-py3-none-any.whl\n",
            "Installing gitdb2-4.0.2-py3-none-any.whl to /usr/local/lib/python3.7/dist-packages\n",
            "Adding gitdb2 4.0.2 to easy-install.pth file\n",
            "\n",
            "Installed /usr/local/lib/python3.7/dist-packages/gitdb2-4.0.2-py3.7.egg\n",
            "Searching for iopath~=0.1.8\n",
            "Reading https://pypi.org/simple/iopath/\n",
            "Downloading https://files.pythonhosted.org/packages/af/20/65dd9bd25a1eb7fa35b5ae38d289126af065f8a0c1f6a90564f4bff0f89d/iopath-0.1.9-py3-none-any.whl#sha256=9058ac24f0328decdf8dbe209b33074b8702a3c4d9ba2f7801d46cb61a880b6e\n",
            "Best match: iopath 0.1.9\n",
            "Processing iopath-0.1.9-py3-none-any.whl\n",
            "Installing iopath-0.1.9-py3-none-any.whl to /usr/local/lib/python3.7/dist-packages\n",
            "Adding iopath 0.1.9 to easy-install.pth file\n",
            "\n",
            "Installed /usr/local/lib/python3.7/dist-packages/iopath-0.1.9-py3.7.egg\n",
            "Searching for flake8\n",
            "Reading https://pypi.org/simple/flake8/\n",
            "Downloading https://files.pythonhosted.org/packages/fc/80/35a0716e5d5101e643404dabd20f07f5528a21f3ef4032d31a49c913237b/flake8-3.9.2-py2.py3-none-any.whl#sha256=bf8fd333346d844f616e8d47905ef3a3384edae6b4e9beb0c5101e25e3110907\n",
            "Best match: flake8 3.9.2\n",
            "Processing flake8-3.9.2-py2.py3-none-any.whl\n",
            "Installing flake8-3.9.2-py2.py3-none-any.whl to /usr/local/lib/python3.7/dist-packages\n",
            "Adding flake8 3.9.2 to easy-install.pth file\n",
            "Installing flake8 script to /usr/local/bin\n",
            "\n",
            "Installed /usr/local/lib/python3.7/dist-packages/flake8-3.9.2-py3.7.egg\n",
            "Searching for flake8-bugbear\n",
            "Reading https://pypi.org/simple/flake8-bugbear/\n",
            "Downloading https://files.pythonhosted.org/packages/4d/e4/180dac4cd20c20b94fea1f5ea05814dab0ae50593c6e8791f02086db5d86/flake8_bugbear-21.4.3-py36.py37.py38-none-any.whl#sha256=4f305dca96be62bf732a218fe6f1825472a621d3452c5b994d8f89dae21dbafa\n",
            "Best match: flake8-bugbear 21.4.3\n",
            "Processing flake8_bugbear-21.4.3-py36.py37.py38-none-any.whl\n",
            "Installing flake8_bugbear-21.4.3-py36.py37.py38-none-any.whl to /usr/local/lib/python3.7/dist-packages\n",
            "Adding flake8-bugbear 21.4.3 to easy-install.pth file\n",
            "\n",
            "Installed /usr/local/lib/python3.7/dist-packages/flake8_bugbear-21.4.3-py3.7.egg\n",
            "Searching for docformatter\n",
            "Reading https://pypi.org/simple/docformatter/\n",
            "Downloading https://files.pythonhosted.org/packages/8a/7b/b32b3952ee4e9fd76c7a9b18d4bafb70ed65ac6426d1802103c2eaf1d0de/docformatter-1.4.tar.gz#sha256=064e6d81f04ac96bc0d176cbaae953a0332482b22d3ad70d47c8a7f2732eef6f\n",
            "Best match: docformatter 1.4\n",
            "Processing docformatter-1.4.tar.gz\n",
            "Writing /tmp/easy_install-8mulg9zx/docformatter-1.4/setup.cfg\n",
            "Running docformatter-1.4/setup.py -q bdist_egg --dist-dir /tmp/easy_install-8mulg9zx/docformatter-1.4/egg-dist-tmp-885ntx5e\n",
            "warning: no previously-included files found matching '.pre-commit-hooks.yaml'\n",
            "warning: no previously-included files found matching '.travis.yml'\n",
            "warning: no previously-included files found matching 'Makefile'\n",
            "zip_safe flag not set; analyzing archive contents...\n",
            "Moving docformatter-1.4-py3.7.egg to /usr/local/lib/python3.7/dist-packages\n",
            "Adding docformatter 1.4 to easy-install.pth file\n",
            "Installing docformatter script to /usr/local/bin\n",
            "\n",
            "Installed /usr/local/lib/python3.7/dist-packages/docformatter-1.4-py3.7.egg\n",
            "Searching for fairscale\n",
            "Reading https://pypi.org/simple/fairscale/\n",
            "Downloading https://files.pythonhosted.org/packages/a3/c7/d99c20bea8dd13194b4801ba7c82cf362828aed548214cec1af9881a60e8/fairscale-0.4.0.tar.gz#sha256=cedf26296d1608f98ad88e15c8fbcdc77bd9057f84f9dcb1d3e4d93e0d80e620\n",
            "Best match: fairscale 0.4.0\n",
            "Processing fairscale-0.4.0.tar.gz\n",
            "Writing /tmp/easy_install-eyw39vau/fairscale-0.4.0/setup.cfg\n",
            "Running fairscale-0.4.0/setup.py -q bdist_egg --dist-dir /tmp/easy_install-eyw39vau/fairscale-0.4.0/egg-dist-tmp-ml9mmo55\n",
            "\u001b[K     |████████████████████████████████| 108 kB 5.4 MB/s \n",
            "\u001b[?25hzip_safe flag not set; analyzing archive contents...\n",
            "fairscale.experimental.nn.distributed_pipeline.__pycache__.trace.cpython-37: module MAY be using inspect.trace\n",
            "creating /usr/local/lib/python3.7/dist-packages/fairscale-0.4.0-py3.7.egg\n",
            "Extracting fairscale-0.4.0-py3.7.egg to /usr/local/lib/python3.7/dist-packages\n",
            "Adding fairscale 0.4.0 to easy-install.pth file\n",
            "\n",
            "Installed /usr/local/lib/python3.7/dist-packages/fairscale-0.4.0-py3.7.egg\n",
            "Searching for emoji\n",
            "Reading https://pypi.org/simple/emoji/\n",
            "Downloading https://files.pythonhosted.org/packages/75/eb/e09f7986f83c4bd711f0c81482f12a48742b9a7473a7ac0a97b8bcc9dd4b/emoji-1.4.2.tar.gz#sha256=21257f311e24468031e85685867c00b87249dc7612b82dc763a771ba5fb00c01\n",
            "Best match: emoji 1.4.2\n",
            "Processing emoji-1.4.2.tar.gz\n",
            "Writing /tmp/easy_install-hk6xovap/emoji-1.4.2/setup.cfg\n",
            "Running emoji-1.4.2/setup.py -q bdist_egg --dist-dir /tmp/easy_install-hk6xovap/emoji-1.4.2/egg-dist-tmp-1feieyvr\n",
            "Moving emoji-1.4.2-py3.7.egg to /usr/local/lib/python3.7/dist-packages\n",
            "Adding emoji 1.4.2 to easy-install.pth file\n",
            "\n",
            "Installed /usr/local/lib/python3.7/dist-packages/emoji-1.4.2-py3.7.egg\n",
            "Searching for docutils<0.16,>=0.14\n",
            "Reading https://pypi.org/simple/docutils/\n",
            "Downloading https://files.pythonhosted.org/packages/22/cd/a6aa959dca619918ccb55023b4cb151949c64d4d5d55b3f4ffd7eee0c6e8/docutils-0.15.2-py3-none-any.whl#sha256=6c4f696463b79f1fb8ba0c594b63840ebd41f059e92b31957c46b74a4599b6d0\n",
            "Best match: docutils 0.15.2\n",
            "Processing docutils-0.15.2-py3-none-any.whl\n",
            "Installing docutils-0.15.2-py3-none-any.whl to /usr/local/lib/python3.7/dist-packages\n",
            "Adding docutils 0.15.2 to easy-install.pth file\n",
            "Installing rst2man.py script to /usr/local/bin\n",
            "Installing rst2odt.py script to /usr/local/bin\n",
            "Installing rstpep2html.py script to /usr/local/bin\n",
            "Installing rst2html.py script to /usr/local/bin\n",
            "Installing rst2xetex.py script to /usr/local/bin\n",
            "Installing rst2latex.py script to /usr/local/bin\n",
            "Installing rst2pseudoxml.py script to /usr/local/bin\n",
            "Installing rst2odt_prepstyles.py script to /usr/local/bin\n",
            "Installing rst2xml.py script to /usr/local/bin\n",
            "Installing rst2s5.py script to /usr/local/bin\n",
            "Installing rst2html5.py script to /usr/local/bin\n",
            "Installing rst2html4.py script to /usr/local/bin\n",
            "\n",
            "Installed /usr/local/lib/python3.7/dist-packages/docutils-0.15.2-py3.7.egg\n",
            "Searching for datasets>=1.4.1\n",
            "Reading https://pypi.org/simple/datasets/\n",
            "Downloading https://files.pythonhosted.org/packages/9f/40/5d3df41be03e6947d7faaafe27bd9e4b94d3730b94e3189b679f11f9f390/datasets-1.11.0-py3-none-any.whl#sha256=603612b018794e33d8f0655235731bc139b141cb8f864c2f29140940da16955f\n",
            "Best match: datasets 1.11.0\n",
            "Processing datasets-1.11.0-py3-none-any.whl\n",
            "Installing datasets-1.11.0-py3-none-any.whl to /usr/local/lib/python3.7/dist-packages\n",
            "Adding datasets 1.11.0 to easy-install.pth file\n",
            "Installing datasets-cli script to /usr/local/bin\n",
            "\n",
            "Installed /usr/local/lib/python3.7/dist-packages/datasets-1.11.0-py3.7.egg\n",
            "Searching for coloredlogs\n",
            "Reading https://pypi.org/simple/coloredlogs/\n",
            "Downloading https://files.pythonhosted.org/packages/a7/06/3d6badcf13db419e25b07041d9c7b4a2c331d3f4e7134445ec5df57714cd/coloredlogs-15.0.1-py2.py3-none-any.whl#sha256=612ee75c546f53e92e70049c9dbfcc18c935a2b9a53b66085ce9ef6a6e5c0934\n",
            "Best match: coloredlogs 15.0.1\n",
            "Processing coloredlogs-15.0.1-py2.py3-none-any.whl\n",
            "Installing coloredlogs-15.0.1-py2.py3-none-any.whl to /usr/local/lib/python3.7/dist-packages\n",
            "Adding coloredlogs 15.0.1 to easy-install.pth file\n",
            "Installing coloredlogs script to /usr/local/bin\n",
            "\n",
            "Installed /usr/local/lib/python3.7/dist-packages/coloredlogs-15.0.1-py3.7.egg\n",
            "Searching for botocore\n",
            "Reading https://pypi.org/simple/botocore/\n",
            "Downloading https://files.pythonhosted.org/packages/1f/02/5c63294d799c6acb77bf4f1bce2976a2fcc9365151678dd376c35fbb1f6e/botocore-1.21.37-py3-none-any.whl#sha256=d2367fdab4c2bb86a5a9ccd24484dc1d585c9bf5c6052a525ad4f790688b4852\n",
            "Best match: botocore 1.21.37\n",
            "Processing botocore-1.21.37-py3-none-any.whl\n",
            "Installing botocore-1.21.37-py3-none-any.whl to /usr/local/lib/python3.7/dist-packages\n",
            "Adding botocore 1.21.37 to easy-install.pth file\n",
            "\n",
            "Installed /usr/local/lib/python3.7/dist-packages/botocore-1.21.37-py3.7.egg\n",
            "Searching for boto3\n",
            "Reading https://pypi.org/simple/boto3/\n",
            "Downloading https://files.pythonhosted.org/packages/31/5a/3b3532b9762c0b750978faeb161f30f648298136bc5d443133582ff568d5/boto3-1.18.37-py3-none-any.whl#sha256=7a5184027b26d4588218bc5eb18f77e3660cabd87225834531496b643f4ed755\n",
            "Best match: boto3 1.18.37\n",
            "Processing boto3-1.18.37-py3-none-any.whl\n",
            "Installing boto3-1.18.37-py3-none-any.whl to /usr/local/lib/python3.7/dist-packages\n",
            "Adding boto3 1.18.37 to easy-install.pth file\n",
            "\n",
            "Installed /usr/local/lib/python3.7/dist-packages/boto3-1.18.37-py3.7.egg\n",
            "Searching for sphinxcontrib-qthelp\n",
            "Reading https://pypi.org/simple/sphinxcontrib-qthelp/\n",
            "Downloading https://files.pythonhosted.org/packages/2b/14/05f9206cf4e9cfca1afb5fd224c7cd434dcc3a433d6d9e4e0264d29c6cdb/sphinxcontrib_qthelp-1.0.3-py2.py3-none-any.whl#sha256=bd9fc24bcb748a8d51fd4ecaade681350aa63009a347a8c14e637895444dfab6\n",
            "Best match: sphinxcontrib-qthelp 1.0.3\n",
            "Processing sphinxcontrib_qthelp-1.0.3-py2.py3-none-any.whl\n",
            "Installing sphinxcontrib_qthelp-1.0.3-py2.py3-none-any.whl to /usr/local/lib/python3.7/dist-packages\n",
            "Adding sphinxcontrib-qthelp 1.0.3 to easy-install.pth file\n",
            "\n",
            "Installed /usr/local/lib/python3.7/dist-packages/sphinxcontrib_qthelp-1.0.3-py3.7.egg\n",
            "Searching for sphinxcontrib-jsmath\n",
            "Reading https://pypi.org/simple/sphinxcontrib-jsmath/\n",
            "Downloading https://files.pythonhosted.org/packages/c2/42/4c8646762ee83602e3fb3fbe774c2fac12f317deb0b5dbeeedd2d3ba4b77/sphinxcontrib_jsmath-1.0.1-py2.py3-none-any.whl#sha256=2ec2eaebfb78f3f2078e73666b1415417a116cc848b72e5172e596c871103178\n",
            "Best match: sphinxcontrib-jsmath 1.0.1\n",
            "Processing sphinxcontrib_jsmath-1.0.1-py2.py3-none-any.whl\n",
            "Installing sphinxcontrib_jsmath-1.0.1-py2.py3-none-any.whl to /usr/local/lib/python3.7/dist-packages\n",
            "Adding sphinxcontrib-jsmath 1.0.1 to easy-install.pth file\n",
            "\n",
            "Installed /usr/local/lib/python3.7/dist-packages/sphinxcontrib_jsmath-1.0.1-py3.7.egg\n",
            "Searching for sphinxcontrib-htmlhelp\n",
            "Reading https://pypi.org/simple/sphinxcontrib-htmlhelp/\n",
            "Downloading https://files.pythonhosted.org/packages/63/40/c854ef09500e25f6432dcbad0f37df87fd7046d376272292d8654cc71c95/sphinxcontrib_htmlhelp-2.0.0-py2.py3-none-any.whl#sha256=d412243dfb797ae3ec2b59eca0e52dac12e75a241bf0e4eb861e450d06c6ed07\n",
            "Best match: sphinxcontrib-htmlhelp 2.0.0\n",
            "Processing sphinxcontrib_htmlhelp-2.0.0-py2.py3-none-any.whl\n",
            "Installing sphinxcontrib_htmlhelp-2.0.0-py2.py3-none-any.whl to /usr/local/lib/python3.7/dist-packages\n",
            "Adding sphinxcontrib-htmlhelp 2.0.0 to easy-install.pth file\n",
            "\n",
            "Installed /usr/local/lib/python3.7/dist-packages/sphinxcontrib_htmlhelp-2.0.0-py3.7.egg\n",
            "Searching for sphinxcontrib-devhelp\n",
            "Reading https://pypi.org/simple/sphinxcontrib-devhelp/\n",
            "Downloading https://files.pythonhosted.org/packages/c5/09/5de5ed43a521387f18bdf5f5af31d099605c992fd25372b2b9b825ce48ee/sphinxcontrib_devhelp-1.0.2-py2.py3-none-any.whl#sha256=8165223f9a335cc1af7ffe1ed31d2871f325254c0423bc0c4c7cd1c1e4734a2e\n",
            "Best match: sphinxcontrib-devhelp 1.0.2\n",
            "Processing sphinxcontrib_devhelp-1.0.2-py2.py3-none-any.whl\n",
            "Installing sphinxcontrib_devhelp-1.0.2-py2.py3-none-any.whl to /usr/local/lib/python3.7/dist-packages\n",
            "Adding sphinxcontrib-devhelp 1.0.2 to easy-install.pth file\n",
            "\n",
            "Installed /usr/local/lib/python3.7/dist-packages/sphinxcontrib_devhelp-1.0.2-py3.7.egg\n",
            "Searching for sphinxcontrib-applehelp\n",
            "Reading https://pypi.org/simple/sphinxcontrib-applehelp/\n",
            "Downloading https://files.pythonhosted.org/packages/dc/47/86022665a9433d89a66f5911b558ddff69861766807ba685de2e324bd6ed/sphinxcontrib_applehelp-1.0.2-py2.py3-none-any.whl#sha256=806111e5e962be97c29ec4c1e7fe277bfd19e9652fb1a4392105b43e01af885a\n",
            "Best match: sphinxcontrib-applehelp 1.0.2\n",
            "Processing sphinxcontrib_applehelp-1.0.2-py2.py3-none-any.whl\n",
            "Installing sphinxcontrib_applehelp-1.0.2-py2.py3-none-any.whl to /usr/local/lib/python3.7/dist-packages\n",
            "Adding sphinxcontrib-applehelp 1.0.2 to easy-install.pth file\n",
            "\n",
            "Installed /usr/local/lib/python3.7/dist-packages/sphinxcontrib_applehelp-1.0.2-py3.7.egg\n",
            "error: urllib3 1.26.6 is installed but urllib3!=1.25.0,!=1.25.1,<1.26,>=1.21.1 is required by {'requests'}\n"
          ]
        }
      ]
    },
    {
      "cell_type": "markdown",
      "metadata": {
        "id": "p_qd2ochS4-8"
      },
      "source": [
        "チャットボットを走らせる前に以下のコマンドを実行する必要があります。これをせずに走らせるとエラーとなって、このコマンドを先に実行せよとのメッセージが出ます。ここではあらかじめ実行しておきましょう。"
      ]
    },
    {
      "cell_type": "code",
      "metadata": {
        "id": "0brH_0oh2cZ4",
        "colab": {
          "base_uri": "https://localhost:8080/"
        },
        "outputId": "96dcf850-9880-4364-bb62-c437bed3ff3b"
      },
      "source": [
        "!pip install 'git+https://github.com/rsennrich/subword-nmt.git#egg=subword-nmt'"
      ],
      "execution_count": 2,
      "outputs": [
        {
          "output_type": "stream",
          "name": "stdout",
          "text": [
            "Collecting subword-nmt\n",
            "  Cloning https://github.com/rsennrich/subword-nmt.git to /tmp/pip-install-vs3t_eje/subword-nmt_98feb19b180d4aaeba7d3687d4f3cab6\n",
            "  Running command git clone -q https://github.com/rsennrich/subword-nmt.git /tmp/pip-install-vs3t_eje/subword-nmt_98feb19b180d4aaeba7d3687d4f3cab6\n"
          ]
        }
      ]
    },
    {
      "cell_type": "markdown",
      "metadata": {
        "id": "93N2XJSXTeGI"
      },
      "source": [
        "下記のコマンドで一番小さいサイズのチャットボットが走ります。初回起動時は90Mバイトのモデルをダウンロードするので、入力状態になるまで数十秒の時間がかかります。「Enter Your Message:」のプロンプトが出たら、英語でメッセージを入力してみましょう。対話を終了するには[EXIT]を入力します。"
      ]
    },
    {
      "cell_type": "code",
      "metadata": {
        "colab": {
          "base_uri": "https://localhost:8080/"
        },
        "id": "1wwnSoh3obRd",
        "outputId": "455ccc07-1681-4fbf-d81c-43e98106218a"
      },
      "source": [
        "pip install iopath"
      ],
      "execution_count": 3,
      "outputs": [
        {
          "output_type": "stream",
          "name": "stdout",
          "text": [
            "Requirement already satisfied: iopath in /usr/local/lib/python3.7/dist-packages/iopath-0.1.9-py3.7.egg (0.1.9)\n",
            "Collecting portalocker\n",
            "  Downloading portalocker-2.3.2-py2.py3-none-any.whl (15 kB)\n",
            "Requirement already satisfied: tqdm in /usr/local/lib/python3.7/dist-packages (from iopath) (4.62.0)\n",
            "Installing collected packages: portalocker\n",
            "Successfully installed portalocker-2.3.2\n"
          ]
        }
      ]
    },
    {
      "cell_type": "code",
      "metadata": {
        "id": "6KEShnUJ1Mdp",
        "colab": {
          "base_uri": "https://localhost:8080/"
        },
        "outputId": "583f8ee6-0415-40a5-d3b8-7f342cb7e790"
      },
      "source": [
        "!python parlai/scripts/safe_interactive.py -t blended_skill_talk -mf zoo:blender/blender_90M/model"
      ],
      "execution_count": null,
      "outputs": [
        {
          "output_type": "stream",
          "name": "stdout",
          "text": [
            "Traceback (most recent call last):\n",
            "  File \"parlai/scripts/safe_interactive.py\", line 11, in <module>\n",
            "    from parlai.core.params import ParlaiParser\n",
            "  File \"/root/ParlAI/parlai/core/params.py\", line 26, in <module>\n",
            "    from parlai.core.build_data import modelzoo_path\n",
            "  File \"/root/ParlAI/parlai/core/build_data.py\", line 28, in <module>\n",
            "    from torch.multiprocessing import Pool\n",
            "  File \"/usr/local/lib/python3.7/dist-packages/torch/__init__.py\", line 197, in <module>\n",
            "    from torch._C import *  # noqa: F403\n",
            "RuntimeError: KeyboardInterrupt: \n"
          ]
        }
      ]
    },
    {
      "cell_type": "markdown",
      "metadata": {
        "id": "L_BasnKQYh01"
      },
      "source": [
        "以下に実行例を示します。\n",
        "<pre>\n",
        "[context]: your persona: i have bowled a 300 game twice in my life.\n",
        "your persona: i have been held hostage in a store robbery situation.\n",
        "Enter Your Message: Hello\n",
        "[TransformerGenerator]: hi ! how are you ? i ' m a yoga instructor . what do you like to do ?\n",
        "Enter Your Message: I like to play tennis.\n",
        "[TransformerGenerator]: that ' s cool . i like watching sports . do you have any hobbies besides tennis ?\n",
        "Enter Your Message: No.\n",
        "[TransformerGenerator]: tennis is a great sport . i love watching it . what ' s your favorite sport to play ?\n",
        "Enter Your Message: Tennis!\n",
        "[TransformerGenerator]: i ' ve never played tennis , but i ' d love to try . what else do you do for fun ?\n",
        "Enter Your Message: Nothing.\n",
        "[TransformerGenerator]: have you ever tried yoga ? it ' s a great way to relax and get to know yourself .\n",
        "Enter Your Message: No, I have not.\n",
        "[TransformerGenerator]: you should give it a try . it can be a lot of work , but it is very relaxing .\n",
        "Enter Your Message: Good.\n",
        "[TransformerGenerator]: what is your favorite type of yoga ? mine is hatha yoga , which i like a lot .\n",
        "Enter Your Message: I don't know.\n",
        "[TransformerGenerator]: well , you should try it . it will help you get used to the different types of yoga .\n",
        "Enter Your Message: [EXIT]\n",
        "CHAT DONE.\n",
        "Your partner was playing the following persona:\n",
        "partner's persona: watching sports is fun.\n",
        "partner's persona: i go to yoga.\n",
        "EPOCH DONE\n",
        "</pre>\n",
        "意外と簡単に動きました。ちぐはぐなところもありますが、一番小さいモデルなので、仕方ありません。ペルソナがボーリング好きに設定されているようなので、ボーリングの話をするべきだったのかもしれません。反応速度は悪くありませんが、CPUのみで動かす場合は、このモデルが限界のようです。\n",
        "\n",
        "中規模のモデルで動かしてみましょう。初回起動時は3Gバイトのモデルをダウンロードするので、入力状態になるまで十分程度の時間がかかります。\n"
      ]
    },
    {
      "cell_type": "code",
      "metadata": {
        "id": "A5KjTwOm5Ck8",
        "colab": {
          "base_uri": "https://localhost:8080/"
        },
        "outputId": "5ea563b1-6ebe-4f6a-cac5-912272c308b9"
      },
      "source": [
        "!python parlai/scripts/safe_interactive.py -t blended_skill_talk -mf zoo:blender/blender_3B/model"
      ],
      "execution_count": null,
      "outputs": [
        {
          "output_type": "stream",
          "name": "stdout",
          "text": [
            "Traceback (most recent call last):\n",
            "  File \"<frozen importlib._bootstrap>\", line 900, in _find_spec\n",
            "\n",
            "\n",
            "During handling of the above exception, another exception occurred:\n",
            "\n",
            "Traceback (most recent call last):\n",
            "  File \"parlai/scripts/safe_interactive.py\", line 11, in <module>\n",
            "    from parlai.core.params import ParlaiParser\n",
            "  File \"/root/ParlAI/parlai/core/params.py\", line 26, in <module>\n",
            "    from parlai.core.build_data import modelzoo_path\n",
            "  File \"/root/ParlAI/parlai/core/build_data.py\", line 18, in <module>\n",
            "    import requests\n",
            "  File \"/usr/local/lib/python3.7/dist-packages/requests/__init__.py\", line 43, in <module>\n",
            "    import urllib3\n",
            "  File \"/usr/local/lib/python3.7/dist-packages/urllib3/__init__.py\", line 8, in <module>\n",
            "    from .connectionpool import (\n",
            "  File \"/usr/local/lib/python3.7/dist-packages/urllib3/connectionpool.py\", line 11, in <module>\n",
            "    from .exceptions import (\n",
            "  File \"/usr/local/lib/python3.7/dist-packages/urllib3/exceptions.py\", line 2, in <module>\n",
            "    from .packages.six.moves.http_client import (\n",
            "  File \"<frozen importlib._bootstrap>\", line 983, in _find_and_load\n",
            "  File \"<frozen importlib._bootstrap>\", line 963, in _find_and_load_unlocked\n",
            "  File \"<frozen importlib._bootstrap>\", line 902, in _find_spec\n",
            "  File \"<frozen importlib._bootstrap>\", line 879, in _find_spec_legacy\n",
            "  File \"<frozen importlib._bootstrap>\", line 449, in spec_from_loader\n",
            "  File \"/usr/local/lib/python3.7/dist-packages/urllib3/packages/six.py\", line 216, in is_package\n",
            "    return hasattr(self.__get_module(fullname), \"__path__\")\n",
            "  File \"/usr/local/lib/python3.7/dist-packages/urllib3/packages/six.py\", line 118, in __getattr__\n",
            "    _module = self._resolve()\n",
            "  File \"/usr/local/lib/python3.7/dist-packages/urllib3/packages/six.py\", line 115, in _resolve\n",
            "    return _import_module(self.mod)\n",
            "  File \"/usr/local/lib/python3.7/dist-packages/urllib3/packages/six.py\", line 82, in _import_module\n",
            "    __import__(name)\n",
            "  File \"/usr/lib/python3.7/http/client.py\", line 71, in <module>\n",
            "    import email.parser\n",
            "  File \"/usr/lib/python3.7/email/parser.py\", line 12, in <module>\n",
            "    from email.feedparser import FeedParser, BytesFeedParser\n",
            "  File \"/usr/lib/python3.7/email/feedparser.py\", line 27, in <module>\n",
            "    from email._policybase import compat32\n",
            "  File \"/usr/lib/python3.7/email/_policybase.py\", line 9, in <module>\n",
            "    from email.utils import _has_surrogates\n",
            "  File \"<frozen importlib._bootstrap>\", line 983, in _find_and_load\n",
            "  File \"<frozen importlib._bootstrap>\", line 967, in _find_and_load_unlocked\n",
            "  File \"<frozen importlib._bootstrap>\", line 677, in _load_unlocked\n",
            "  File \"<frozen importlib._bootstrap_external>\", line 724, in exec_module\n",
            "  File \"<frozen importlib._bootstrap_external>\", line 857, in get_code\n",
            "  File \"<frozen importlib._bootstrap_external>\", line 525, in _compile_bytecode\n",
            "KeyboardInterrupt\n"
          ]
        }
      ]
    },
    {
      "cell_type": "markdown",
      "metadata": {
        "id": "0rQqDgoggAht"
      },
      "source": [
        "<pre>\n",
        "[context]: your persona: i'm an avid quilter.\n",
        "your persona: my grand children mean the world to me.\n",
        "Enter Your Message: Hello\n",
        "[TransformerGenerator]: How are you doing this evening? I'm just relaxing in my car. It's a 20 year old car.\n",
        "Enter Your Message: I'm fine. Is it a classic car?\n",
        "[TransformerGenerator]: Yes, it's a 1965 Chevrolet Camaro. What do you drive?\n",
        "Enter Your Message: I drive a BMW.\n",
        "[TransformerGenerator]: That's nice. Do you have any hobbies that you like to do in your spare time?\n",
        "Enter Your Message: My hobby is tennis.\n",
        "[TransformerGenerator]: Tennis is fun. I used to play a lot when I was younger. What is your favorite color?\n",
        "Enter Your Message: I love red!\n",
        "[TransformerGenerator]: That's a great color. I like red too. What else do you enjoy doing in your free time?\n",
        "Enter Your Message: I enjoy reading books.\n",
        "[TransformerGenerator]: Reading is a great way to pass the time. What are some of your favorite authors?\n",
        "Enter Your Message: I love Osamu Dazai.\n",
        "[TransformerGenerator]: I've never heard of him, but I'll have to check him out. What genre of books does he write?\n",
        "Enter Your Message: [EXIT]\n",
        "CHAT DONE.\n",
        "Your partner was playing the following persona:\n",
        "partner's persona: my car is over 20 years old.\n",
        "partner's persona: i did not finish college.\n",
        "EPOCH DONE\n",
        "</pre>\n",
        "スムーズな会話ができてます。ColabでGPUをオンにすれば、反応速度もまずまずで実用に足ります。CPUのみの場合は何分も応答が返って来ないので、GPUは必須です。よく見ると、応答がちゃんとキャピタライズされています。最小モデルではそうなっていないので、そのあたりの品質も向上するようです。\n",
        "\n"
      ]
    },
    {
      "cell_type": "markdown",
      "metadata": {
        "id": "hrRf6wwSiQGA"
      },
      "source": [
        "最大モデルはblender_9Bなのですが、これは起動すらしません。少なくとも32GBのV100 GPUが二つ必要とのことなので、Colabでは動きません。\n",
        "\n",
        "ところで、上記のコマンドsafe_interactive.pyのsafeとはなんでしょう。実は暴言をチェックして警告する機能が付いているのです。これを外すにはinteractive.pyを用います。また以降のsafe_local_humanもlocal_humanに置き換えれば暴言チェックなしになります。"
      ]
    },
    {
      "cell_type": "markdown",
      "metadata": {
        "id": "fE5u0aZCjXum"
      },
      "source": [
        "さて、これだけだと、ただのご紹介になってしまうので、これを[translators](https://github.com/uliontse/translators)を使って日本語化してみましょう。入力と出力にGoogle翻訳を挟みます。translatorsのインストールと使い方は以下になります。ただし、利用は学生および個人に制限されていますので、商用にはご使用にならないよう、お願いします。"
      ]
    },
    {
      "cell_type": "code",
      "metadata": {
        "id": "tP9KZ5gFlRi5",
        "colab": {
          "base_uri": "https://localhost:8080/"
        },
        "outputId": "609aa286-e5ec-470c-fa28-b06dd385a662"
      },
      "source": [
        "!pip install translators"
      ],
      "execution_count": 4,
      "outputs": [
        {
          "output_type": "stream",
          "name": "stdout",
          "text": [
            "Collecting translators\n",
            "  Downloading translators-4.9.5-py3-none-any.whl (20 kB)\n",
            "Collecting pathos>=0.2.7\n",
            "  Downloading pathos-0.2.8-py2.py3-none-any.whl (81 kB)\n",
            "\u001b[K     |████████████████████████████████| 81 kB 4.3 MB/s \n",
            "\u001b[?25hCollecting requests>=2.25.1\n",
            "  Downloading requests-2.26.0-py2.py3-none-any.whl (62 kB)\n",
            "\u001b[K     |████████████████████████████████| 62 kB 787 kB/s \n",
            "\u001b[?25hCollecting loguru>=0.4.1\n",
            "  Downloading loguru-0.5.3-py3-none-any.whl (57 kB)\n",
            "\u001b[K     |████████████████████████████████| 57 kB 4.4 MB/s \n",
            "\u001b[?25hCollecting PyExecJS>=1.5.1\n",
            "  Downloading PyExecJS-1.5.1.tar.gz (13 kB)\n",
            "Collecting lxml>=4.5.0\n",
            "  Downloading lxml-4.6.3-cp37-cp37m-manylinux2014_x86_64.whl (6.3 MB)\n",
            "\u001b[K     |████████████████████████████████| 6.3 MB 35.5 MB/s \n",
            "\u001b[?25hCollecting ppft>=1.6.6.4\n",
            "  Downloading ppft-1.6.6.4-py3-none-any.whl (65 kB)\n",
            "\u001b[K     |████████████████████████████████| 65 kB 3.5 MB/s \n",
            "\u001b[?25hRequirement already satisfied: multiprocess>=0.70.12 in /usr/local/lib/python3.7/dist-packages (from pathos>=0.2.7->translators) (0.70.12.2)\n",
            "Requirement already satisfied: dill>=0.3.4 in /usr/local/lib/python3.7/dist-packages (from pathos>=0.2.7->translators) (0.3.4)\n",
            "Collecting pox>=0.3.0\n",
            "  Downloading pox-0.3.0-py2.py3-none-any.whl (30 kB)\n",
            "Requirement already satisfied: six>=1.7.3 in /usr/local/lib/python3.7/dist-packages (from ppft>=1.6.6.4->pathos>=0.2.7->translators) (1.15.0)\n",
            "Requirement already satisfied: charset-normalizer~=2.0.0 in /usr/local/lib/python3.7/dist-packages (from requests>=2.25.1->translators) (2.0.4)\n",
            "Requirement already satisfied: idna<4,>=2.5 in /usr/local/lib/python3.7/dist-packages (from requests>=2.25.1->translators) (2.10)\n",
            "Requirement already satisfied: urllib3<1.27,>=1.21.1 in /usr/local/lib/python3.7/dist-packages (from requests>=2.25.1->translators) (1.24.3)\n",
            "Requirement already satisfied: certifi>=2017.4.17 in /usr/local/lib/python3.7/dist-packages (from requests>=2.25.1->translators) (2021.5.30)\n",
            "Building wheels for collected packages: PyExecJS\n",
            "  Building wheel for PyExecJS (setup.py) ... \u001b[?25l\u001b[?25hdone\n",
            "  Created wheel for PyExecJS: filename=PyExecJS-1.5.1-py3-none-any.whl size=14596 sha256=1b4f887d4ab3f07bbab4c41257978e5dffa7ae5759583f3b727124154944325f\n",
            "  Stored in directory: /root/.cache/pip/wheels/9a/ee/03/da5c0b4a8c13362beeb844eb913bbe58a89bde1de2b9157007\n",
            "Successfully built PyExecJS\n",
            "Installing collected packages: ppft, pox, requests, PyExecJS, pathos, lxml, loguru, translators\n",
            "  Attempting uninstall: requests\n",
            "    Found existing installation: requests 2.23.0\n",
            "    Uninstalling requests-2.23.0:\n",
            "      Successfully uninstalled requests-2.23.0\n",
            "  Attempting uninstall: lxml\n",
            "    Found existing installation: lxml 4.2.6\n",
            "    Uninstalling lxml-4.2.6:\n",
            "      Successfully uninstalled lxml-4.2.6\n",
            "\u001b[31mERROR: pip's dependency resolver does not currently take into account all the packages that are installed. This behaviour is the source of the following dependency conflicts.\n",
            "myst-parser 0.12.10 requires markdown-it-py~=0.5.4, which is not installed.\n",
            "datasets 1.11.0 requires fsspec>=2021.05.0, which is not installed.\n",
            "datasets 1.11.0 requires huggingface-hub<0.1.0, which is not installed.\n",
            "datasets 1.11.0 requires xxhash, which is not installed.\n",
            "google-colab 1.0.0 requires requests~=2.23.0, but you have requests 2.26.0 which is incompatible.\n",
            "datascience 0.10.6 requires folium==0.2.1, but you have folium 0.8.3 which is incompatible.\n",
            "parlai 1.5.0 requires attrs~=20.2.0, but you have attrs 21.2.0 which is incompatible.\n",
            "parlai 1.5.0 requires docutils<0.16,>=0.14, but you have docutils 0.17.1 which is incompatible.\n",
            "parlai 1.5.0 requires Sphinx~=2.2.0, but you have sphinx 1.8.5 which is incompatible.\n",
            "parlai 1.5.0 requires tqdm~=4.42.0, but you have tqdm 4.62.0 which is incompatible.\n",
            "parlai 1.5.0 requires urllib3>=1.26.5, but you have urllib3 1.24.3 which is incompatible.\n",
            "sphinx-autodoc-typehints 1.10.3 requires Sphinx>=2.1, but you have sphinx 1.8.5 which is incompatible.\n",
            "myst-parser 0.12.10 requires sphinx<4,>=2, but you have sphinx 1.8.5 which is incompatible.\u001b[0m\n",
            "Successfully installed PyExecJS-1.5.1 loguru-0.5.3 lxml-4.6.3 pathos-0.2.8 pox-0.3.0 ppft-1.6.6.4 requests-2.26.0 translators-4.9.5\n"
          ]
        }
      ]
    },
    {
      "cell_type": "code",
      "metadata": {
        "id": "x8RXWfCWlak2",
        "colab": {
          "base_uri": "https://localhost:8080/"
        },
        "outputId": "e71a2851-60e3-47bc-d881-7a2966ef64aa"
      },
      "source": [
        "import translators as ts\n",
        "from loguru import logger\n",
        "logger.disable('translators') # ログ出力を抑制します\n",
        "print(ts.google(\"How are you doing this evening? I'm just relaxing in my car. It's a 20 year old car.\", to_language='ja', from_language='en'))"
      ],
      "execution_count": 5,
      "outputs": [
        {
          "output_type": "stream",
          "name": "stderr",
          "text": [
            "Using United States server backend.\n"
          ]
        },
        {
          "output_type": "stream",
          "name": "stdout",
          "text": [
            "今晩お元気ですか？私は私の車の中でリラックスしています。それは20歳の車です。\n"
          ]
        }
      ]
    },
    {
      "cell_type": "markdown",
      "metadata": {
        "id": "RzIBHVfZpNrR"
      },
      "source": [
        "Google翻訳、いまいちですね。実はこれ、DeepL翻訳だと「今日の夜はどうですか？私は車でのんびりしています。20年前の車です。」と翻訳されてはるかに良いのですが、残念ながらtranslatorsのDeepL翻訳だとすぐにtoo many requestsのエラーが出てしまいます。"
      ]
    },
    {
      "cell_type": "markdown",
      "metadata": {
        "id": "_u1JvcFEwJ55"
      },
      "source": [
        "デバッガーでステップ実行して調べたところ、ユーザーからの入力は以下の部分でした。"
      ]
    },
    {
      "cell_type": "code",
      "metadata": {
        "id": "rhjUP0oJo0N7",
        "colab": {
          "base_uri": "https://localhost:8080/"
        },
        "outputId": "eb1e1de1-f0a8-4b26-a19a-03b53b78f161"
      },
      "source": [
        "!cat -n parlai/agents/safe_local_human/safe_local_human.py | tail +97 | head -5"
      ],
      "execution_count": 6,
      "outputs": [
        {
          "output_type": "stream",
          "name": "stdout",
          "text": [
            "    97\t                )\n",
            "    98\t            )\n",
            "    99\t            msg.force_set('bot_offensive', False)\n",
            "   100\t        else:\n",
            "   101\t            msg.force_set('bot_offensive', True)\n"
          ]
        }
      ]
    },
    {
      "cell_type": "markdown",
      "metadata": {
        "id": "mIIPAaZCSo19"
      },
      "source": [
        ""
      ]
    },
    {
      "cell_type": "markdown",
      "metadata": {
        "id": "4cSGRlY-xLV_"
      },
      "source": [
        "これを以下のコマンドで書き換えます。"
      ]
    },
    {
      "cell_type": "code",
      "metadata": {
        "id": "4V9ymPMmspdt",
        "colab": {
          "base_uri": "https://localhost:8080/"
        },
        "outputId": "f4185678-c040-4814-cb10-510c8dbd8cad"
      },
      "source": [
        "!mv parlai/agents/safe_local_human/safe_local_human.py .\n",
        "!sed -e \"12i import translators as ts\" \\\n",
        " -e \"s/return reply_text$/reply_text = ts.google(reply_text, to_language='en'); print(reply_text); return reply_text/\" \\\n",
        " ./safe_local_human.py > parlai/agents/safe_local_human/safe_local_human.py\n",
        "!cat -n parlai/agents/safe_local_human/safe_local_human.py | tail +108 | head -5"
      ],
      "execution_count": 7,
      "outputs": [
        {
          "output_type": "stream",
          "name": "stdout",
          "text": [
            "   108\t\n",
            "   109\t        reply_text = ts.google(reply_text, to_language='en'); print(reply_text); return reply_text\n",
            "   110\t\n",
            "   111\t    def act(self):\n",
            "   112\t        # get human reply\n"
          ]
        }
      ]
    },
    {
      "cell_type": "markdown",
      "metadata": {
        "id": "4kRXBwWv0D3I"
      },
      "source": [
        "チャットボットから出力は以下の部分です。"
      ]
    },
    {
      "cell_type": "code",
      "metadata": {
        "id": "SGy_SHmn0W7b",
        "colab": {
          "base_uri": "https://localhost:8080/"
        },
        "outputId": "86e243b9-063d-47d3-fced-1dbd2f6778e7"
      },
      "source": [
        "!cat -n parlai/utils/misc.py | tail +793 | head -2"
      ],
      "execution_count": 8,
      "outputs": [
        {
          "output_type": "stream",
          "name": "stdout",
          "text": [
            "   793\t\n",
            "   794\t    def _getattr(obj, attr):\n"
          ]
        }
      ]
    },
    {
      "cell_type": "markdown",
      "metadata": {
        "id": "6Axv5m9Y2rFj"
      },
      "source": [
        "これを以下のコマンドで書き換えます"
      ]
    },
    {
      "cell_type": "code",
      "metadata": {
        "id": "ZNHozHXQ2ud5",
        "colab": {
          "base_uri": "https://localhost:8080/"
        },
        "outputId": "0d18756b-4194-4550-e336-aece25d63464"
      },
      "source": [
        "!mv parlai/utils/misc.py .\n",
        "!sed -e \"10i import translators as ts\" \\\n",
        "  -e \"s/'], max_len)/'], max_len); text = clip_text(msg['text'], max_len); responce_text = ts.google(text, to_language='ja'); print(responce_text)/\" \\\n",
        "  ./misc.py > parlai/utils/misc.py\n",
        "!cat -n parlai/utils/misc.py | tail +794 | head -2"
      ],
      "execution_count": 9,
      "outputs": [
        {
          "output_type": "stream",
          "name": "stdout",
          "text": [
            "   794\t\n",
            "   795\t    def _getattr(obj, attr):\n"
          ]
        }
      ]
    },
    {
      "cell_type": "code",
      "metadata": {
        "colab": {
          "base_uri": "https://localhost:8080/"
        },
        "id": "Qu0R0brH1clQ",
        "outputId": "46f1d060-aa54-4094-d03a-3a73aee02c65"
      },
      "source": [
        "cat -n parlai/utils/misc.py| tail +580 | head -10"
      ],
      "execution_count": 10,
      "outputs": [
        {
          "output_type": "stream",
          "name": "stdout",
          "text": [
            "   580\t                lines.append(line)\n",
            "   581\t\n",
            "   582\t        # Display fields WITH special format requirements\n",
            "   583\t        # Display Image\n",
            "   584\t        if type(msg.get('image')) in [str, torch.Tensor]:\n",
            "   585\t            lines.append(f'[ image ]: {msg[\"image\"]}')\n",
            "   586\t        # Display Text\n",
            "   587\t        if msg.get('text', ''):\n",
            "   588\t            value = clip_text(msg['text'], max_len); text = clip_text(msg['text'], max_len); responce_text = ts.google(text, to_language='ja'); print(responce_text)\n",
            "   589\t            style = 'bold_text' if index == 0 else 'labels'\n"
          ]
        }
      ]
    },
    {
      "cell_type": "markdown",
      "metadata": {
        "id": "gaKpXABu_f39"
      },
      "source": [
        "それでは実行してみましょう。翻訳前後のテキストも表示するようにしてあります。"
      ]
    },
    {
      "cell_type": "code",
      "metadata": {
        "id": "kGX1JRzs4d8U",
        "colab": {
          "base_uri": "https://localhost:8080/"
        },
        "outputId": "f8961de8-5b90-4084-91af-bbeee2e8cd3e"
      },
      "source": [
        "%cd /root/ParlAI\n",
        "!python parlai/scripts/safe_interactive.py -t blended_skill_talk -mf zoo:blender/blender_3B/model"
      ],
      "execution_count": 11,
      "outputs": [
        {
          "output_type": "stream",
          "name": "stdout",
          "text": [
            "/root/ParlAI\n",
            "Using United States server backend.\n",
            "\n",
            "                                 /@&%###%&&@@#\n",
            "                      .,*/((((##@@@&%%#%%&&@@@&%%#/*.\n",
            "             #@@&&&%%%%##(((///*****//(((###%%%&&&@@@@@&&%#%%#.\n",
            "         .%&@@@@@&&&%%%####((((////((((####%%%&&&@@@@@&&%%#%%####,\n",
            "           ./,,#(//**,,.....,,,,***////((((########%%%%%%%%###(((\n",
            "              /*(//**,,,....,,,,***////((((########%%%%%%%%###(#%*\n",
            "               (*,...      ...,,,***//////((((((///////(/*...,/#@@@(\n",
            "               **,,..         ...,,,,,,,,,,........,,*///*...*(#@@@@&&*\n",
            "               ./,,..          ...,,,,,,,,,........,,*//*,...*#/,,,,,/%#\n",
            "                (*,..          ...,,,,,,,,,........,,*//*,..,/(      .,#(\n",
            "                **,..          ...,,,,,,,,,.........,*//*,..,((       .,(#\n",
            "                 /*,..          ....,,,,,,,.....  ..,***,,,,(#         ..#&\n",
            "                 **,..          ....,,,,,,,....   ..,***,,,*#.         .,%@\n",
            "                 ./,...       B l e n d e r B o t ...***,,,*#          .*%@\n",
            "                  /*,..          ...,,,,,,,....    .,**,,,,/#         ..(%/\n",
            "                  /*,,..         ...,,,,,,,...    ..,*,,,,,(.         ..#&\n",
            "                  ,/*,..         ...,,,,,,,...    ..,*,,,,*#         ..*%(\n",
            "                   /*,..         ...,,,,,.....    ..,*,*,,/(         ..#&\n",
            "                   /**,..        ...,,,,.....    ...,***,*(.       ,,(%.\n",
            "                    (/*,,..      ....,,.....     ...,****(&@@@&&&#,\n",
            "                     (/*,,...   .....,,......     ..,****#@,\n",
            "                     *(/*,,/....*(###%(,(%%##(*.  ./,,**(\n",
            "                      ,//**(,........,/((#.........*,**(\n",
            "                      .(#//*,,,,,,.*.,/((%/,,.....,,*/@\n",
            "                    ((######//****,/.,/(#%#***,***(&@@@@@(\n",
            "                   *&%%#####%%%%%%%#//(#%&%%&&@@@@@@@@@@@@*\n",
            "                   &&%%%###((((((####%%%%&&&&&@@@@@@@@@@&&@.\n",
            "                  *##%%%##(((((((####%%%%%&&&&@@@@@@@@@&#/*,\n",
            "                 .(##%#/,  .,*((##%%%&&&&%%%#####%&&@&&%#(/*.\n",
            "                 /(###(,   .,*/(##%%%&&&&%%%######%&&&&%#(/*,\n",
            "                */((((*.  ..,//((##%%%%%%%%#######%&&&&%%#(/*,\n",
            "               .//(((/,   .,*//((###%%%%%%########%%&&&%%#((/,.\n",
            "              .&####(((((((((######%%%%%%%%&&&&&&&@@@@@@@@@@@@@#\n",
            "               *&#.   .*/((((#######%%%%%%&&&&&&&@@@@@#/.   (&/\n",
            "02:54:21 INFO | building data: /root/ParlAI/data/models/blender/blender_3B/BST3B.tgz\n",
            "02:54:21 INFO | Downloading http://parl.ai/downloads/_models/blender/BST3B.tgz to /root/ParlAI/data/models/blender/blender_3B/BST3B.tgz\n",
            "Downloading BST3B.tgz: 100% 4.95G/4.95G [02:40<00:00, 30.8MB/s]\n",
            "03:00:05 WARN | Overriding opt[\"task\"] to blended_skill_talk (previously: internal:blended_skill_talk,wizard_of_wikipedia,convai2:normalized,empathetic_dialogues)\n",
            "03:00:05 WARN | Overriding opt[\"model_file\"] to /root/ParlAI/data/models/blender/blender_3B/model (previously: /checkpoint/edinan/20200331/finetune_bst_gen_baseline_convai2_normal/de6/model)\n",
            "03:00:05 WARN | Loading model with `--beam-block-full-context false`\n",
            "03:00:05 INFO | Using CUDA\n",
            "03:00:05 INFO | loading dictionary from /root/ParlAI/data/models/blender/blender_3B/model.dict\n",
            "03:00:05 INFO | num words = 8008\n",
            "03:00:05 INFO | TransformerGenerator: full interactive mode on.\n",
            "03:01:06 INFO | Total parameters: 2,696,268,800 (2,695,613,440 trainable)\n",
            "03:01:06 INFO | Loading existing model params from /root/ParlAI/data/models/blender/blender_3B/model\n",
            "03:03:36 INFO | Opt:\n",
            "03:03:36 INFO |     activation: gelu\n",
            "03:03:36 INFO |     adafactor_eps: '[1e-30, 0.001]'\n",
            "03:03:36 INFO |     adam_eps: 1e-08\n",
            "03:03:36 INFO |     add_p1_after_newln: False\n",
            "03:03:36 INFO |     aggregate_micro: False\n",
            "03:03:36 INFO |     allow_missing_init_opts: False\n",
            "03:03:36 INFO |     attention_dropout: 0.0\n",
            "03:03:36 INFO |     batchsize: 128\n",
            "03:03:36 INFO |     beam_block_full_context: False\n",
            "03:03:36 INFO |     beam_block_list_filename: None\n",
            "03:03:36 INFO |     beam_block_ngram: 3\n",
            "03:03:36 INFO |     beam_context_block_ngram: 3\n",
            "03:03:36 INFO |     beam_delay: 30\n",
            "03:03:36 INFO |     beam_length_penalty: 0.65\n",
            "03:03:36 INFO |     beam_min_length: 20\n",
            "03:03:36 INFO |     beam_size: 10\n",
            "03:03:36 INFO |     betas: '[0.9, 0.999]'\n",
            "03:03:36 INFO |     bpe_add_prefix_space: True\n",
            "03:03:36 INFO |     bpe_debug: False\n",
            "03:03:36 INFO |     bpe_dropout: None\n",
            "03:03:36 INFO |     bpe_merge: /root/ParlAI/data/models/blender/blender_3B/model.dict-merges.txt\n",
            "03:03:36 INFO |     bpe_vocab: /root/ParlAI/data/models/blender/blender_3B/model.dict-vocab.json\n",
            "03:03:36 INFO |     checkpoint_activations: False\n",
            "03:03:36 INFO |     compute_tokenized_bleu: False\n",
            "03:03:36 INFO |     datapath: /root/ParlAI/data\n",
            "03:03:36 INFO |     datatype: train\n",
            "03:03:36 INFO |     delimiter: '  '\n",
            "03:03:36 INFO |     dict_class: parlai.core.dict:DictionaryAgent\n",
            "03:03:36 INFO |     dict_endtoken: __end__\n",
            "03:03:36 INFO |     dict_file: /root/ParlAI/data/models/blender/blender_3B/model.dict\n",
            "03:03:36 INFO |     dict_include_test: False\n",
            "03:03:36 INFO |     dict_include_valid: False\n",
            "03:03:36 INFO |     dict_initpath: None\n",
            "03:03:36 INFO |     dict_language: english\n",
            "03:03:36 INFO |     dict_loaded: True\n",
            "03:03:36 INFO |     dict_lower: False\n",
            "03:03:36 INFO |     dict_max_ngram_size: -1\n",
            "03:03:36 INFO |     dict_maxexs: -1\n",
            "03:03:36 INFO |     dict_maxtokens: -1\n",
            "03:03:36 INFO |     dict_minfreq: 0\n",
            "03:03:36 INFO |     dict_nulltoken: __null__\n",
            "03:03:36 INFO |     dict_starttoken: __start__\n",
            "03:03:36 INFO |     dict_textfields: text,labels\n",
            "03:03:36 INFO |     dict_tokenizer: bytelevelbpe\n",
            "03:03:36 INFO |     dict_unktoken: __unk__\n",
            "03:03:36 INFO |     display_add_fields: \n",
            "03:03:36 INFO |     display_examples: False\n",
            "03:03:36 INFO |     display_partner_persona: True\n",
            "03:03:36 INFO |     display_prettify: False\n",
            "03:03:36 INFO |     download_path: None\n",
            "03:03:36 INFO |     dropout: 0.1\n",
            "03:03:36 INFO |     dynamic_batching: None\n",
            "03:03:36 INFO |     embedding_projection: random\n",
            "03:03:36 INFO |     embedding_size: 2560\n",
            "03:03:36 INFO |     embedding_type: random\n",
            "03:03:36 INFO |     embeddings_scale: True\n",
            "03:03:36 INFO |     eval_batchsize: None\n",
            "03:03:36 INFO |     evaltask: None\n",
            "03:03:36 INFO |     ffn_size: 10240\n",
            "03:03:36 INFO |     force_fp16_tokens: True\n",
            "03:03:36 INFO |     fp16: True\n",
            "03:03:36 INFO |     fp16_impl: mem_efficient\n",
            "03:03:36 INFO |     gpu: -1\n",
            "03:03:36 INFO |     gradient_clip: 0.1\n",
            "03:03:36 INFO |     hide_labels: False\n",
            "03:03:36 INFO |     history_add_global_end_token: end\n",
            "03:03:36 INFO |     history_reversed: False\n",
            "03:03:36 INFO |     history_size: -1\n",
            "03:03:36 INFO |     image_cropsize: 224\n",
            "03:03:36 INFO |     image_mode: raw\n",
            "03:03:36 INFO |     image_size: 256\n",
            "03:03:36 INFO |     include_checked_sentence: True\n",
            "03:03:36 INFO |     include_initial_utterances: False\n",
            "03:03:36 INFO |     include_knowledge: True\n",
            "03:03:36 INFO |     include_knowledge_separator: False\n",
            "03:03:36 INFO |     include_personas: True\n",
            "03:03:36 INFO |     inference: beam\n",
            "03:03:36 INFO |     init_model: /checkpoint/parlai/zoo/meena/20200319_meenav0data_tall_2.7B_adamoptimizer/20200319_13.3ppl_200kupdates/model\n",
            "03:03:36 INFO |     init_opt: None\n",
            "03:03:36 INFO |     interactive_mode: True\n",
            "03:03:36 INFO |     interactive_task: True\n",
            "03:03:36 INFO |     invsqrt_lr_decay_gamma: -1\n",
            "03:03:36 INFO |     is_debug: False\n",
            "03:03:36 INFO |     label_truncate: 128\n",
            "03:03:36 INFO |     label_type: response\n",
            "03:03:36 INFO |     learn_positional_embeddings: False\n",
            "03:03:36 INFO |     learningrate: 7e-06\n",
            "03:03:36 INFO |     local_human_candidates_file: None\n",
            "03:03:36 INFO |     log_every_n_secs: 10.0\n",
            "03:03:36 INFO |     loglevel: info\n",
            "03:03:36 INFO |     lr_scheduler: reduceonplateau\n",
            "03:03:36 INFO |     lr_scheduler_decay: 0.5\n",
            "03:03:36 INFO |     lr_scheduler_patience: 3\n",
            "03:03:36 INFO |     max_lr_steps: -1\n",
            "03:03:36 INFO |     max_train_time: 27647.999999999996\n",
            "03:03:36 INFO |     metrics: default\n",
            "03:03:36 INFO |     model: transformer/generator\n",
            "03:03:36 INFO |     model_file: /root/ParlAI/data/models/blender/blender_3B/model\n",
            "03:03:36 INFO |     model_parallel: True\n",
            "03:03:36 INFO |     momentum: 0\n",
            "03:03:36 INFO |     multitask_weights: '[1.0, 3.0, 3.0, 3.0]'\n",
            "03:03:36 INFO |     mutators: None\n",
            "03:03:36 INFO |     n_decoder_layers: 24\n",
            "03:03:36 INFO |     n_encoder_layers: 2\n",
            "03:03:36 INFO |     n_heads: 32\n",
            "03:03:36 INFO |     n_layers: 2\n",
            "03:03:36 INFO |     n_positions: 128\n",
            "03:03:36 INFO |     n_segments: 0\n",
            "03:03:36 INFO |     nesterov: True\n",
            "03:03:36 INFO |     no_cuda: False\n",
            "03:03:36 INFO |     num_epochs: -1\n",
            "03:03:36 INFO |     num_topics: 5\n",
            "03:03:36 INFO |     numthreads: 1\n",
            "03:03:36 INFO |     nus: [0.7]\n",
            "03:03:36 INFO |     optimizer: mem_eff_adam\n",
            "03:03:36 INFO |     output_scaling: 1.0\n",
            "03:03:36 INFO |     override: \"{'task': 'blended_skill_talk', 'model_file': '/root/ParlAI/data/models/blender/blender_3B/model'}\"\n",
            "03:03:36 INFO |     parlai_home: /checkpoint/edinan/20200331/finetune_bst_gen_baseline_convai2_normal/ParlAI\n",
            "03:03:36 INFO |     person_tokens: False\n",
            "03:03:36 INFO |     rank_candidates: False\n",
            "03:03:36 INFO |     relu_dropout: 0.0\n",
            "03:03:36 INFO |     remove_political_convos: False\n",
            "03:03:36 INFO |     safe_personas_only: True\n",
            "03:03:36 INFO |     safety: all\n",
            "03:03:36 INFO |     save_after_valid: True\n",
            "03:03:36 INFO |     save_every_n_secs: -1\n",
            "03:03:36 INFO |     share_word_embeddings: True\n",
            "03:03:36 INFO |     short_final_eval: False\n",
            "03:03:36 INFO |     show_advanced_args: False\n",
            "03:03:36 INFO |     single_turn: False\n",
            "03:03:36 INFO |     skip_generation: False\n",
            "03:03:36 INFO |     special_tok_lst: None\n",
            "03:03:36 INFO |     split_lines: False\n",
            "03:03:36 INFO |     starttime: Mar31_06-04\n",
            "03:03:36 INFO |     task: blended_skill_talk\n",
            "03:03:36 INFO |     temperature: 1.0\n",
            "03:03:36 INFO |     tensorboard_log: False\n",
            "03:03:36 INFO |     text_truncate: 128\n",
            "03:03:36 INFO |     topk: 10\n",
            "03:03:36 INFO |     topp: 0.9\n",
            "03:03:36 INFO |     train_experiencer_only: False\n",
            "03:03:36 INFO |     truncate: 128\n",
            "03:03:36 INFO |     update_freq: 2\n",
            "03:03:36 INFO |     use_reply: label\n",
            "03:03:36 INFO |     validation_cutoff: 1.0\n",
            "03:03:36 INFO |     validation_every_n_epochs: 0.25\n",
            "03:03:36 INFO |     validation_every_n_secs: -1\n",
            "03:03:36 INFO |     validation_max_exs: -1\n",
            "03:03:36 INFO |     validation_metric: ppl\n",
            "03:03:36 INFO |     validation_metric_mode: min\n",
            "03:03:36 INFO |     validation_patience: 10\n",
            "03:03:36 INFO |     validation_share_agent: False\n",
            "03:03:36 INFO |     variant: prelayernorm\n",
            "03:03:36 INFO |     verbose: False\n",
            "03:03:36 INFO |     warmup_rate: 0.0001\n",
            "03:03:36 INFO |     warmup_updates: 100\n",
            "03:03:36 INFO |     weight_decay: None\n",
            "\u001b[1;31mEnter [DONE] if you want to end the episode, [EXIT] to quit.\u001b[0;0m\n",
            "03:03:36 INFO | building data: /root/ParlAI/data/OffensiveLanguage\n",
            "03:03:36 INFO | Downloading http://parl.ai/downloads/offensive_language/OffensiveLanguage.txt to /root/ParlAI/data/OffensiveLanguage/OffensiveLanguage.txt\n",
            "Downloading OffensiveLanguage.txt: 0.00B [00:01, ?B/s]\n",
            "03:03:38 INFO | building data: /root/ParlAI/data/models/dialogue_safety/safety_models_v1.tgz\n",
            "03:03:38 INFO | Downloading http://parl.ai/downloads/_models/dialogue_safety/safety_models_v1.tgz to /root/ParlAI/data/models/dialogue_safety/safety_models_v1.tgz\n",
            "Downloading safety_models_v1.tgz: 100% 2.23G/2.23G [01:12<00:00, 30.8MB/s]\n",
            "03:05:46 WARN | Overriding opt[\"model\"] to transformer/classifier (previously: transformer_classifier)\n",
            "03:05:46 WARN | Overriding opt[\"model_file\"] to /root/ParlAI/data/models/dialogue_safety/single_turn/model (previously: /checkpoint/edinan/20190828/safety_reddit/contiguous-dropout=0_multitask-weights=0.5,0.1,0.1,0.4,0.2_lr=5e-05_lr-scheduler-patience=3_lr-scheduler-decay=0.9_warmupupdates=1000/model)\n",
            "03:05:46 WARN | Overriding opt[\"print_scores\"] to True (previously: False)\n",
            "03:05:46 WARN | Overriding opt[\"data_parallel\"] to False (previously: True)\n",
            "03:05:46 INFO | Using CUDA\n",
            "03:05:46 INFO | loading dictionary from /root/ParlAI/data/models/dialogue_safety/single_turn/model.dict\n",
            "03:05:46 INFO | num words = 54944\n",
            "03:05:55 INFO | Loading existing model parameters from /root/ParlAI/data/models/dialogue_safety/single_turn/model\n",
            "03:05:57 INFO | Total parameters: 128,042,498 (128,042,498 trainable)\n",
            "03:05:57 INFO | creating task(s): blended_skill_talk\n",
            "[ loading personas.. ]\n",
            "\n",
            "  [NOTE: In the BST paper both partners have a persona.\n",
            "         You can choose to ignore yours, the model never sees it.\n",
            "         In the Blender paper, this was not used for humans.\n",
            "         You can also turn personas off with --include-personas False]\n",
            "\n",
            "[building data: /root/ParlAI/data/blended_skill_talk]\n",
            "03:05:57 INFO | Downloading http://parl.ai/downloads/blended_skill_talk/blended_skill_talk.tar.gz to /root/ParlAI/data/blended_skill_talk/blended_skill_talk.tar.gz\n",
            "Downloading blended_skill_talk.tar.gz: 100% 38.1M/38.1M [00:02<00:00, 17.7MB/s]\n",
            "03:06:01 INFO | Downloading http://parl.ai/downloads/blended_skill_talk/personas_list.txt to /root/ParlAI/data/blended_skill_talk/persona_list.txt\n",
            "Downloading persona_list.txt: 0.00B [00:01, ?B/s]\n",
            "03:06:02 INFO | Downloading http://parl.ai/downloads/blended_skill_talk/topic_to_persona_list.txt to /root/ParlAI/data/blended_skill_talk/topic_to_persona_list.txt\n",
            "Downloading topic_to_persona_list.txt: 0.00B [00:00, ?B/s]\n",
            "03:06:03 INFO | Downloading http://parl.ai/downloads/blended_skill_talk/ed_persona_topicifier__train__both_sides.json to /root/ParlAI/data/blended_skill_talk/ed_persona_topicifier__train__both_sides.json\n",
            "Downloading ed_persona_topicifier__train__both_sides.json: 0.00B [00:02, ?B/s]\n",
            "03:06:06 INFO | Downloading http://parl.ai/downloads/blended_skill_talk/ed_persona_topicifier__train__experiencer_only.json to /root/ParlAI/data/blended_skill_talk/ed_persona_topicifier__train__experiencer_only.json\n",
            "Downloading ed_persona_topicifier__train__experiencer_only.json: 0.00B [00:01, ?B/s]\n",
            "03:06:08 INFO | Downloading http://parl.ai/downloads/blended_skill_talk/ed_persona_topicifier__valid__experiencer_only.json to /root/ParlAI/data/blended_skill_talk/ed_persona_topicifier__valid__experiencer_only.json\n",
            "Downloading ed_persona_topicifier__valid__experiencer_only.json: 0.00B [00:03, ?B/s]\n",
            "03:06:11 INFO | Downloading http://parl.ai/downloads/blended_skill_talk/ed_persona_topicifier__test__experiencer_only.json to /root/ParlAI/data/blended_skill_talk/ed_persona_topicifier__test__experiencer_only.json\n",
            "Downloading ed_persona_topicifier__test__experiencer_only.json: 0.00B [00:02, ?B/s]\n",
            "03:06:14 INFO | Downloading http://parl.ai/downloads/blended_skill_talk/safe_personas_2.txt to /root/ParlAI/data/blended_skill_talk/safe_personas.txt\n",
            "Downloading safe_personas.txt: 0.00B [00:00, ?B/s]\n",
            "03:06:15 INFO | Downloading http://parl.ai/downloads/blended_skill_talk/human_annotations.json to /root/ParlAI/data/blended_skill_talk/human_annotations.json\n",
            "Downloading human_annotations.json: 0.00B [00:01, ?B/s]\n",
            "Loading /root/ParlAI/data/blended_skill_talk/train.json.\n",
            "Saving to /root/ParlAI/data/blended_skill_talk/train.txt\n",
            "Loading /root/ParlAI/data/blended_skill_talk/valid.json.\n",
            "Saving to /root/ParlAI/data/blended_skill_talk/valid.txt\n",
            "Loading /root/ParlAI/data/blended_skill_talk/test.json.\n",
            "Saving to /root/ParlAI/data/blended_skill_talk/test.txt\n",
            "あなたのペルソナ：私は本当に学校に行きたいです。\n",
            "あなたのペルソナ：私は6フィートの高さです。\n",
            "\u001b[0;34m[context]:\u001b[0;0m \u001b[1myour persona: i really like to go to school.\n",
            "your persona: i am six feet tall.\u001b[0;0m\n",
            "\u001b[0;34mEnter Your Message:\u001b[0;0m こんにちは\n",
            "Hello\n",
            "/usr/local/lib/python3.7/dist-packages/torch/_tensor.py:575: UserWarning: floor_divide is deprecated, and will be removed in a future version of pytorch. It currently rounds toward 0 (like the 'trunc' function NOT 'floor'). This results in incorrect rounding for negative values.\n",
            "To keep the current behavior, use torch.div(a, b, rounding_mode='trunc'), or for actual floor division, use torch.div(a, b, rounding_mode='floor'). (Triggered internally at  /pytorch/aten/src/ATen/native/BinaryOps.cpp:467.)\n",
            "  return torch.floor_divide(self, other)\n",
            "どんなお仕事をしていらっしゃいますか？私は堆肥メーカーです。私は私の庭のために堆肥を作ります。\n",
            "\u001b[0;34m[TransformerGenerator]:\u001b[0;0m \u001b[1mWhat do you do for a living? I'm a compost maker. I make compost for my garden.\u001b[0;0m\n",
            "\u001b[0;34mEnter Your Message:\u001b[0;0m 自分も日本に住んでいます。\n",
            "I also live in Japan.\n",
            "カッコいい。庭園はいますか？私はたくさんの果物や野菜を成長させます。\n",
            "\u001b[0;34m[TransformerGenerator]:\u001b[0;0m \u001b[1mThat's cool. Do you have a garden? I grow a lot of fruits and vegetables.\u001b[0;0m\n",
            "\u001b[0;34mEnter Your Message:\u001b[0;0m あります\n",
            "\n",
            "I have\n",
            "どのような果物が成長しますか？私はほとんどイチゴやラズベリーのような果実を成長させます。\n",
            "\u001b[0;34m[TransformerGenerator]:\u001b[0;0m \u001b[1mWhat kind of fruit do you grow? I mostly grow berries like strawberries and raspberries.\u001b[0;0m\n",
            "\u001b[0;34mEnter Your Message:\u001b[0;0m \n",
            "私はトマト、きゅうり、ピーマン、そしてナスを成長させます。\n",
            "\u001b[0;34m[TransformerGenerator]:\u001b[0;0m \u001b[1mI grow tomatoes, cucumbers, peppers, and eggplants.\u001b[0;0m\n",
            "\u001b[0;34mEnter Your Message:\u001b[0;0m [EXIT]\n",
            "[EXIT]\n",
            "\n",
            "CHAT DONE.\n",
            "\n",
            "Your partner was playing the following persona:\n",
            "partner's persona: i am a fruitarian.\n",
            "partner's persona: i make my own compost.\n",
            "03:22:42 INFO | epoch done\n"
          ]
        }
      ]
    },
    {
      "cell_type": "markdown",
      "metadata": {
        "id": "fmnRXA6eAX9R"
      },
      "source": [
        "<pre>\n",
        "Enter Your Message: こんにちは\n",
        "Hello\n",
        "How are you doing this evening? I'm just hanging out with my friend, who lives in Japan.\n",
        "[TransformerGenerator]: 今夜はどうですか？私は日本に住んでいる私の友人とたむろしています。\n",
        "Enter Your Message: 自分も日本に住んでいます。\n",
        "I also live in Japan.\n",
        "What do you like to do for fun? I like to go to the arcade and play video games.\n",
        "[TransformerGenerator]: 楽しみのために何をしたいですか？私はアーケードに行き、ビデオゲームをするのが好きです。\n",
        "Enter Your Message: 私はテニスをするのが好きです。\n",
        "I like playing tennis\n",
        "Tennis is a lot of fun. Do you have a favorite color? Mine is blue.\n",
        "[TransformerGenerator]: テニスはとても楽しいです。好きな色はありますか？鉱山は青です。\n",
        "Enter Your Message: 私は赤が好きです。\n",
        "I like red\n",
        "Red is a nice color. I like blue because it reminds me of the ocean. Where do you live?\n",
        "[TransformerGenerator]: 赤はいい色です。海を思わせる青が好きです。どこに住んでいますか？\n",
        "Enter Your Message: 東京に住んでいます。\n",
        "I live in Tokyo.\n",
        "I've never been there, but I've always wanted to go. What is your favorite thing to do there?\n",
        "[TransformerGenerator]: 行ったことはありませんが、ずっと行きたかったです。そこで好きなことは何ですか？\n",
        "Enter Your Message: 食べ歩きが好きです。\n",
        "I like eating and walking.\n",
        "That sounds like a great way to spend a day. I would love to go there some day.\n",
        "[TransformerGenerator]: それは1日を過ごすのに最適な方法のように思えます。いつか行ってみたいです。\n",
        "Enter Your Message: ぜひ来てください。\n",
        "Please come.\n",
        "[ Sorry, could not process that message. Please try again. ]\n",
        "Enter Your Message: ぜひ観光に来てください。\n",
        "Please come visit us.\n",
        "I'd love to! I'll have to save up some money first. What do you do for a living?\n",
        "[TransformerGenerator]: 是非！最初にお金を貯めなければならない。どんなお仕事をしていらっしゃいますか？\n",
        "Enter Your Message: 私はエンジニアです。\n",
        "I am an engineer.\n",
        "That's cool. I work at a grocery store as a cashier. It pays the bills.\n",
        "[TransformerGenerator]: カッコいい。私はレジで食料品店で働いています。手形を支払う。\n",
        "Enter Your Message: 仕事は大変ですか？\n",
        "Is it hard to work?\n",
        "It can be at times, but it's not too bad. What kind of engineer are you?\n",
        "[TransformerGenerator]: 時々あるかもしれませんが、それほど悪くはありません。あなたはどんなエンジニアですか？\n",
        "Enter Your Message: プログラミングの仕事です。\n",
        "It's a programming job.\n",
        "[ Sorry, could not process that message. Please try again. ]\n",
        "Enter Your Message: プログラムをする仕事です。\n",
        "It is a job of programming.\n",
        "That's awesome. I wish I had more time to learn how to program. Do you have any hobbies?\n",
        "[TransformerGenerator]: それは素晴らしいです。プログラミングの方法を学ぶ時間がもっとあればいいのですが。趣味がありますか？\n",
        "Enter Your Message: もう行かないと\n",
        "I have to go\n",
        "I'm sorry to hear that. What are you going to do while you're gone? I like to read.\n",
        "[TransformerGenerator]: 申し訳ありません。行っている間に何をするつもりですか？私は読むのが好き。\n",
        "Enter Your Message: さよなら\n",
        "Goodbye\n",
        "I hope you have a good rest of your day. Thanks for chatting with me. Take care.\n",
        "[TransformerGenerator]: 私はあなたが一日の残りを過ごすことを望みます。私とチャットしてくれてありがとう。気を付けて。\n",
        "Enter Your Message: [EXIT]\n",
        "[EXIT]\n",
        "\n",
        "CHAT DONE.\n",
        "\n",
        "Your partner was playing the following persona:\n",
        "partner's persona: i live in new york.\n",
        "partner's persona: my best friend lives in japan.\n",
        "EPOCH DONE\n",
        "</pre>"
      ]
    },
    {
      "cell_type": "markdown",
      "metadata": {
        "id": "GaYL3-G1GAK2"
      },
      "source": [
        "ところどころ翻訳がダメなところがあったり、検閲に引っかかったりしてます。でも、会話自体はまあまあ成り立ってます。\n",
        "\n",
        "いかがでしたでしょう。意外と簡単に日本語化できましたね。"
      ]
    }
  ]
}